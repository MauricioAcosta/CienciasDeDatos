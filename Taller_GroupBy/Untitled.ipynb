{
 "cells": [
  {
   "cell_type": "code",
   "execution_count": 170,
   "metadata": {},
   "outputs": [],
   "source": [
    "import pandas as pd\n",
    "import dateutil"
   ]
  },
  {
   "cell_type": "code",
   "execution_count": 171,
   "metadata": {},
   "outputs": [
    {
     "data": {
      "text/html": [
       "<div>\n",
       "<style scoped>\n",
       "    .dataframe tbody tr th:only-of-type {\n",
       "        vertical-align: middle;\n",
       "    }\n",
       "\n",
       "    .dataframe tbody tr th {\n",
       "        vertical-align: top;\n",
       "    }\n",
       "\n",
       "    .dataframe thead th {\n",
       "        text-align: right;\n",
       "    }\n",
       "</style>\n",
       "<table border=\"1\" class=\"dataframe\">\n",
       "  <thead>\n",
       "    <tr style=\"text-align: right;\">\n",
       "      <th></th>\n",
       "      <th>index</th>\n",
       "      <th>date</th>\n",
       "      <th>duration</th>\n",
       "      <th>item</th>\n",
       "      <th>month</th>\n",
       "      <th>network</th>\n",
       "      <th>network_type</th>\n",
       "    </tr>\n",
       "  </thead>\n",
       "  <tbody>\n",
       "    <tr>\n",
       "      <th>0</th>\n",
       "      <td>0</td>\n",
       "      <td>15/10/14 06:58</td>\n",
       "      <td>34.429</td>\n",
       "      <td>data</td>\n",
       "      <td>2014-11</td>\n",
       "      <td>data</td>\n",
       "      <td>data</td>\n",
       "    </tr>\n",
       "    <tr>\n",
       "      <th>1</th>\n",
       "      <td>1</td>\n",
       "      <td>15/10/14 06:58</td>\n",
       "      <td>13.000</td>\n",
       "      <td>call</td>\n",
       "      <td>2014-11</td>\n",
       "      <td>Vodafone</td>\n",
       "      <td>mobile</td>\n",
       "    </tr>\n",
       "    <tr>\n",
       "      <th>2</th>\n",
       "      <td>2</td>\n",
       "      <td>15/10/14 14:46</td>\n",
       "      <td>23.000</td>\n",
       "      <td>call</td>\n",
       "      <td>2014-11</td>\n",
       "      <td>Meteor</td>\n",
       "      <td>mobile</td>\n",
       "    </tr>\n",
       "    <tr>\n",
       "      <th>3</th>\n",
       "      <td>3</td>\n",
       "      <td>15/10/14 14:48</td>\n",
       "      <td>4.000</td>\n",
       "      <td>call</td>\n",
       "      <td>2014-11</td>\n",
       "      <td>Tesco</td>\n",
       "      <td>mobile</td>\n",
       "    </tr>\n",
       "    <tr>\n",
       "      <th>4</th>\n",
       "      <td>4</td>\n",
       "      <td>15/10/14 17:27</td>\n",
       "      <td>4.000</td>\n",
       "      <td>call</td>\n",
       "      <td>2014-11</td>\n",
       "      <td>Tesco</td>\n",
       "      <td>mobile</td>\n",
       "    </tr>\n",
       "  </tbody>\n",
       "</table>\n",
       "</div>"
      ],
      "text/plain": [
       "   index            date  duration  item    month   network network_type\n",
       "0      0  15/10/14 06:58    34.429  data  2014-11      data         data\n",
       "1      1  15/10/14 06:58    13.000  call  2014-11  Vodafone       mobile\n",
       "2      2  15/10/14 14:46    23.000  call  2014-11    Meteor       mobile\n",
       "3      3  15/10/14 14:48     4.000  call  2014-11     Tesco       mobile\n",
       "4      4  15/10/14 17:27     4.000  call  2014-11     Tesco       mobile"
      ]
     },
     "execution_count": 171,
     "metadata": {},
     "output_type": "execute_result"
    }
   ],
   "source": [
    "data=pd.read_csv('phone_data.csv')\n",
    "data.head()"
   ]
  },
  {
   "cell_type": "code",
   "execution_count": 172,
   "metadata": {},
   "outputs": [],
   "source": [
    "data['date']=data['date'].apply(dateutil.parser.parse, dayfirst=True)"
   ]
  },
  {
   "cell_type": "code",
   "execution_count": 173,
   "metadata": {},
   "outputs": [
    {
     "data": {
      "text/html": [
       "<div>\n",
       "<style scoped>\n",
       "    .dataframe tbody tr th:only-of-type {\n",
       "        vertical-align: middle;\n",
       "    }\n",
       "\n",
       "    .dataframe tbody tr th {\n",
       "        vertical-align: top;\n",
       "    }\n",
       "\n",
       "    .dataframe thead th {\n",
       "        text-align: right;\n",
       "    }\n",
       "</style>\n",
       "<table border=\"1\" class=\"dataframe\">\n",
       "  <thead>\n",
       "    <tr style=\"text-align: right;\">\n",
       "      <th></th>\n",
       "      <th>index</th>\n",
       "      <th>date</th>\n",
       "      <th>duration</th>\n",
       "      <th>item</th>\n",
       "      <th>month</th>\n",
       "      <th>network</th>\n",
       "      <th>network_type</th>\n",
       "    </tr>\n",
       "  </thead>\n",
       "  <tbody>\n",
       "    <tr>\n",
       "      <th>0</th>\n",
       "      <td>0</td>\n",
       "      <td>2014-10-15 06:58:00</td>\n",
       "      <td>34.429</td>\n",
       "      <td>data</td>\n",
       "      <td>2014-11</td>\n",
       "      <td>data</td>\n",
       "      <td>data</td>\n",
       "    </tr>\n",
       "    <tr>\n",
       "      <th>1</th>\n",
       "      <td>1</td>\n",
       "      <td>2014-10-15 06:58:00</td>\n",
       "      <td>13.000</td>\n",
       "      <td>call</td>\n",
       "      <td>2014-11</td>\n",
       "      <td>Vodafone</td>\n",
       "      <td>mobile</td>\n",
       "    </tr>\n",
       "    <tr>\n",
       "      <th>2</th>\n",
       "      <td>2</td>\n",
       "      <td>2014-10-15 14:46:00</td>\n",
       "      <td>23.000</td>\n",
       "      <td>call</td>\n",
       "      <td>2014-11</td>\n",
       "      <td>Meteor</td>\n",
       "      <td>mobile</td>\n",
       "    </tr>\n",
       "    <tr>\n",
       "      <th>3</th>\n",
       "      <td>3</td>\n",
       "      <td>2014-10-15 14:48:00</td>\n",
       "      <td>4.000</td>\n",
       "      <td>call</td>\n",
       "      <td>2014-11</td>\n",
       "      <td>Tesco</td>\n",
       "      <td>mobile</td>\n",
       "    </tr>\n",
       "    <tr>\n",
       "      <th>4</th>\n",
       "      <td>4</td>\n",
       "      <td>2014-10-15 17:27:00</td>\n",
       "      <td>4.000</td>\n",
       "      <td>call</td>\n",
       "      <td>2014-11</td>\n",
       "      <td>Tesco</td>\n",
       "      <td>mobile</td>\n",
       "    </tr>\n",
       "    <tr>\n",
       "      <th>5</th>\n",
       "      <td>5</td>\n",
       "      <td>2014-10-15 18:55:00</td>\n",
       "      <td>4.000</td>\n",
       "      <td>call</td>\n",
       "      <td>2014-11</td>\n",
       "      <td>Tesco</td>\n",
       "      <td>mobile</td>\n",
       "    </tr>\n",
       "    <tr>\n",
       "      <th>6</th>\n",
       "      <td>6</td>\n",
       "      <td>2014-10-16 06:58:00</td>\n",
       "      <td>34.429</td>\n",
       "      <td>data</td>\n",
       "      <td>2014-11</td>\n",
       "      <td>data</td>\n",
       "      <td>data</td>\n",
       "    </tr>\n",
       "    <tr>\n",
       "      <th>7</th>\n",
       "      <td>7</td>\n",
       "      <td>2014-10-16 15:01:00</td>\n",
       "      <td>602.000</td>\n",
       "      <td>call</td>\n",
       "      <td>2014-11</td>\n",
       "      <td>Three</td>\n",
       "      <td>mobile</td>\n",
       "    </tr>\n",
       "    <tr>\n",
       "      <th>8</th>\n",
       "      <td>8</td>\n",
       "      <td>2014-10-16 15:12:00</td>\n",
       "      <td>1050.000</td>\n",
       "      <td>call</td>\n",
       "      <td>2014-11</td>\n",
       "      <td>Three</td>\n",
       "      <td>mobile</td>\n",
       "    </tr>\n",
       "    <tr>\n",
       "      <th>9</th>\n",
       "      <td>9</td>\n",
       "      <td>2014-10-16 15:30:00</td>\n",
       "      <td>19.000</td>\n",
       "      <td>call</td>\n",
       "      <td>2014-11</td>\n",
       "      <td>voicemail</td>\n",
       "      <td>voicemail</td>\n",
       "    </tr>\n",
       "    <tr>\n",
       "      <th>10</th>\n",
       "      <td>10</td>\n",
       "      <td>2014-10-16 16:21:00</td>\n",
       "      <td>1183.000</td>\n",
       "      <td>call</td>\n",
       "      <td>2014-11</td>\n",
       "      <td>Three</td>\n",
       "      <td>mobile</td>\n",
       "    </tr>\n",
       "    <tr>\n",
       "      <th>11</th>\n",
       "      <td>11</td>\n",
       "      <td>2014-10-16 22:18:00</td>\n",
       "      <td>1.000</td>\n",
       "      <td>sms</td>\n",
       "      <td>2014-11</td>\n",
       "      <td>Meteor</td>\n",
       "      <td>mobile</td>\n",
       "    </tr>\n",
       "    <tr>\n",
       "      <th>12</th>\n",
       "      <td>12</td>\n",
       "      <td>2014-10-16 22:21:00</td>\n",
       "      <td>1.000</td>\n",
       "      <td>sms</td>\n",
       "      <td>2014-11</td>\n",
       "      <td>Meteor</td>\n",
       "      <td>mobile</td>\n",
       "    </tr>\n",
       "    <tr>\n",
       "      <th>13</th>\n",
       "      <td>13</td>\n",
       "      <td>2014-10-17 06:58:00</td>\n",
       "      <td>34.429</td>\n",
       "      <td>data</td>\n",
       "      <td>2014-11</td>\n",
       "      <td>data</td>\n",
       "      <td>data</td>\n",
       "    </tr>\n",
       "    <tr>\n",
       "      <th>14</th>\n",
       "      <td>14</td>\n",
       "      <td>2014-10-17 10:53:00</td>\n",
       "      <td>1.000</td>\n",
       "      <td>sms</td>\n",
       "      <td>2014-11</td>\n",
       "      <td>Tesco</td>\n",
       "      <td>mobile</td>\n",
       "    </tr>\n",
       "    <tr>\n",
       "      <th>15</th>\n",
       "      <td>15</td>\n",
       "      <td>2014-10-17 11:19:00</td>\n",
       "      <td>1.000</td>\n",
       "      <td>sms</td>\n",
       "      <td>2014-11</td>\n",
       "      <td>Tesco</td>\n",
       "      <td>mobile</td>\n",
       "    </tr>\n",
       "    <tr>\n",
       "      <th>16</th>\n",
       "      <td>16</td>\n",
       "      <td>2014-10-17 11:20:00</td>\n",
       "      <td>1.000</td>\n",
       "      <td>sms</td>\n",
       "      <td>2014-11</td>\n",
       "      <td>Meteor</td>\n",
       "      <td>mobile</td>\n",
       "    </tr>\n",
       "    <tr>\n",
       "      <th>17</th>\n",
       "      <td>17</td>\n",
       "      <td>2014-10-17 17:22:00</td>\n",
       "      <td>1.000</td>\n",
       "      <td>sms</td>\n",
       "      <td>2014-11</td>\n",
       "      <td>Vodafone</td>\n",
       "      <td>mobile</td>\n",
       "    </tr>\n",
       "    <tr>\n",
       "      <th>18</th>\n",
       "      <td>18</td>\n",
       "      <td>2014-10-17 17:23:00</td>\n",
       "      <td>1.000</td>\n",
       "      <td>sms</td>\n",
       "      <td>2014-11</td>\n",
       "      <td>Vodafone</td>\n",
       "      <td>mobile</td>\n",
       "    </tr>\n",
       "    <tr>\n",
       "      <th>19</th>\n",
       "      <td>19</td>\n",
       "      <td>2014-10-17 17:26:00</td>\n",
       "      <td>92.000</td>\n",
       "      <td>call</td>\n",
       "      <td>2014-11</td>\n",
       "      <td>Three</td>\n",
       "      <td>mobile</td>\n",
       "    </tr>\n",
       "    <tr>\n",
       "      <th>20</th>\n",
       "      <td>20</td>\n",
       "      <td>2014-10-17 17:29:00</td>\n",
       "      <td>4.000</td>\n",
       "      <td>call</td>\n",
       "      <td>2014-11</td>\n",
       "      <td>Vodafone</td>\n",
       "      <td>mobile</td>\n",
       "    </tr>\n",
       "    <tr>\n",
       "      <th>21</th>\n",
       "      <td>21</td>\n",
       "      <td>2014-10-17 17:30:00</td>\n",
       "      <td>375.000</td>\n",
       "      <td>call</td>\n",
       "      <td>2014-11</td>\n",
       "      <td>Tesco</td>\n",
       "      <td>mobile</td>\n",
       "    </tr>\n",
       "    <tr>\n",
       "      <th>22</th>\n",
       "      <td>22</td>\n",
       "      <td>2014-10-17 17:42:00</td>\n",
       "      <td>1.000</td>\n",
       "      <td>sms</td>\n",
       "      <td>2014-11</td>\n",
       "      <td>Vodafone</td>\n",
       "      <td>mobile</td>\n",
       "    </tr>\n",
       "    <tr>\n",
       "      <th>23</th>\n",
       "      <td>23</td>\n",
       "      <td>2014-10-17 17:44:00</td>\n",
       "      <td>1.000</td>\n",
       "      <td>sms</td>\n",
       "      <td>2014-11</td>\n",
       "      <td>Vodafone</td>\n",
       "      <td>mobile</td>\n",
       "    </tr>\n",
       "    <tr>\n",
       "      <th>24</th>\n",
       "      <td>24</td>\n",
       "      <td>2014-10-17 17:44:00</td>\n",
       "      <td>1.000</td>\n",
       "      <td>sms</td>\n",
       "      <td>2014-11</td>\n",
       "      <td>Vodafone</td>\n",
       "      <td>mobile</td>\n",
       "    </tr>\n",
       "    <tr>\n",
       "      <th>25</th>\n",
       "      <td>25</td>\n",
       "      <td>2014-10-17 17:44:00</td>\n",
       "      <td>1.000</td>\n",
       "      <td>sms</td>\n",
       "      <td>2014-11</td>\n",
       "      <td>Vodafone</td>\n",
       "      <td>mobile</td>\n",
       "    </tr>\n",
       "    <tr>\n",
       "      <th>26</th>\n",
       "      <td>26</td>\n",
       "      <td>2014-10-18 06:58:00</td>\n",
       "      <td>34.429</td>\n",
       "      <td>data</td>\n",
       "      <td>2014-11</td>\n",
       "      <td>data</td>\n",
       "      <td>data</td>\n",
       "    </tr>\n",
       "    <tr>\n",
       "      <th>27</th>\n",
       "      <td>27</td>\n",
       "      <td>2014-10-18 11:51:00</td>\n",
       "      <td>783.000</td>\n",
       "      <td>call</td>\n",
       "      <td>2014-11</td>\n",
       "      <td>Tesco</td>\n",
       "      <td>mobile</td>\n",
       "    </tr>\n",
       "    <tr>\n",
       "      <th>28</th>\n",
       "      <td>28</td>\n",
       "      <td>2014-10-18 12:06:00</td>\n",
       "      <td>4.000</td>\n",
       "      <td>call</td>\n",
       "      <td>2014-11</td>\n",
       "      <td>Vodafone</td>\n",
       "      <td>mobile</td>\n",
       "    </tr>\n",
       "    <tr>\n",
       "      <th>29</th>\n",
       "      <td>29</td>\n",
       "      <td>2014-10-18 12:06:00</td>\n",
       "      <td>3.000</td>\n",
       "      <td>call</td>\n",
       "      <td>2014-11</td>\n",
       "      <td>Vodafone</td>\n",
       "      <td>mobile</td>\n",
       "    </tr>\n",
       "    <tr>\n",
       "      <th>...</th>\n",
       "      <td>...</td>\n",
       "      <td>...</td>\n",
       "      <td>...</td>\n",
       "      <td>...</td>\n",
       "      <td>...</td>\n",
       "      <td>...</td>\n",
       "      <td>...</td>\n",
       "    </tr>\n",
       "    <tr>\n",
       "      <th>800</th>\n",
       "      <td>800</td>\n",
       "      <td>2015-03-02 14:53:00</td>\n",
       "      <td>2.000</td>\n",
       "      <td>call</td>\n",
       "      <td>2015-03</td>\n",
       "      <td>voicemail</td>\n",
       "      <td>voicemail</td>\n",
       "    </tr>\n",
       "    <tr>\n",
       "      <th>801</th>\n",
       "      <td>801</td>\n",
       "      <td>2015-03-02 14:54:00</td>\n",
       "      <td>93.000</td>\n",
       "      <td>call</td>\n",
       "      <td>2015-03</td>\n",
       "      <td>voicemail</td>\n",
       "      <td>voicemail</td>\n",
       "    </tr>\n",
       "    <tr>\n",
       "      <th>802</th>\n",
       "      <td>802</td>\n",
       "      <td>2015-03-02 17:35:00</td>\n",
       "      <td>192.000</td>\n",
       "      <td>call</td>\n",
       "      <td>2015-03</td>\n",
       "      <td>Meteor</td>\n",
       "      <td>mobile</td>\n",
       "    </tr>\n",
       "    <tr>\n",
       "      <th>803</th>\n",
       "      <td>803</td>\n",
       "      <td>2015-03-02 20:48:00</td>\n",
       "      <td>34.000</td>\n",
       "      <td>call</td>\n",
       "      <td>2015-03</td>\n",
       "      <td>Tesco</td>\n",
       "      <td>mobile</td>\n",
       "    </tr>\n",
       "    <tr>\n",
       "      <th>804</th>\n",
       "      <td>804</td>\n",
       "      <td>2015-03-03 06:58:00</td>\n",
       "      <td>34.429</td>\n",
       "      <td>data</td>\n",
       "      <td>2015-03</td>\n",
       "      <td>data</td>\n",
       "      <td>data</td>\n",
       "    </tr>\n",
       "    <tr>\n",
       "      <th>805</th>\n",
       "      <td>805</td>\n",
       "      <td>2015-03-03 09:57:00</td>\n",
       "      <td>76.000</td>\n",
       "      <td>call</td>\n",
       "      <td>2015-03</td>\n",
       "      <td>landline</td>\n",
       "      <td>landline</td>\n",
       "    </tr>\n",
       "    <tr>\n",
       "      <th>806</th>\n",
       "      <td>806</td>\n",
       "      <td>2015-03-03 09:59:00</td>\n",
       "      <td>355.000</td>\n",
       "      <td>call</td>\n",
       "      <td>2015-03</td>\n",
       "      <td>Three</td>\n",
       "      <td>mobile</td>\n",
       "    </tr>\n",
       "    <tr>\n",
       "      <th>807</th>\n",
       "      <td>807</td>\n",
       "      <td>2015-03-03 10:12:00</td>\n",
       "      <td>745.000</td>\n",
       "      <td>call</td>\n",
       "      <td>2015-03</td>\n",
       "      <td>Vodafone</td>\n",
       "      <td>mobile</td>\n",
       "    </tr>\n",
       "    <tr>\n",
       "      <th>808</th>\n",
       "      <td>808</td>\n",
       "      <td>2015-03-03 10:27:00</td>\n",
       "      <td>57.000</td>\n",
       "      <td>call</td>\n",
       "      <td>2015-03</td>\n",
       "      <td>Vodafone</td>\n",
       "      <td>mobile</td>\n",
       "    </tr>\n",
       "    <tr>\n",
       "      <th>809</th>\n",
       "      <td>809</td>\n",
       "      <td>2015-03-03 14:34:00</td>\n",
       "      <td>1325.000</td>\n",
       "      <td>call</td>\n",
       "      <td>2015-03</td>\n",
       "      <td>Vodafone</td>\n",
       "      <td>mobile</td>\n",
       "    </tr>\n",
       "    <tr>\n",
       "      <th>810</th>\n",
       "      <td>810</td>\n",
       "      <td>2015-03-03 18:36:00</td>\n",
       "      <td>768.000</td>\n",
       "      <td>call</td>\n",
       "      <td>2015-03</td>\n",
       "      <td>Three</td>\n",
       "      <td>mobile</td>\n",
       "    </tr>\n",
       "    <tr>\n",
       "      <th>811</th>\n",
       "      <td>811</td>\n",
       "      <td>2015-03-04 06:58:00</td>\n",
       "      <td>34.429</td>\n",
       "      <td>data</td>\n",
       "      <td>2015-03</td>\n",
       "      <td>data</td>\n",
       "      <td>data</td>\n",
       "    </tr>\n",
       "    <tr>\n",
       "      <th>812</th>\n",
       "      <td>812</td>\n",
       "      <td>2015-03-04 07:02:00</td>\n",
       "      <td>1.000</td>\n",
       "      <td>sms</td>\n",
       "      <td>2015-03</td>\n",
       "      <td>Vodafone</td>\n",
       "      <td>mobile</td>\n",
       "    </tr>\n",
       "    <tr>\n",
       "      <th>813</th>\n",
       "      <td>813</td>\n",
       "      <td>2015-03-04 07:16:00</td>\n",
       "      <td>1.000</td>\n",
       "      <td>sms</td>\n",
       "      <td>2015-03</td>\n",
       "      <td>Vodafone</td>\n",
       "      <td>mobile</td>\n",
       "    </tr>\n",
       "    <tr>\n",
       "      <th>814</th>\n",
       "      <td>814</td>\n",
       "      <td>2015-03-04 10:30:00</td>\n",
       "      <td>1.000</td>\n",
       "      <td>sms</td>\n",
       "      <td>2015-03</td>\n",
       "      <td>Three</td>\n",
       "      <td>mobile</td>\n",
       "    </tr>\n",
       "    <tr>\n",
       "      <th>815</th>\n",
       "      <td>815</td>\n",
       "      <td>2015-03-04 10:30:00</td>\n",
       "      <td>1.000</td>\n",
       "      <td>sms</td>\n",
       "      <td>2015-03</td>\n",
       "      <td>Three</td>\n",
       "      <td>mobile</td>\n",
       "    </tr>\n",
       "    <tr>\n",
       "      <th>816</th>\n",
       "      <td>816</td>\n",
       "      <td>2015-03-04 12:29:00</td>\n",
       "      <td>10528.000</td>\n",
       "      <td>call</td>\n",
       "      <td>2015-03</td>\n",
       "      <td>landline</td>\n",
       "      <td>landline</td>\n",
       "    </tr>\n",
       "    <tr>\n",
       "      <th>817</th>\n",
       "      <td>817</td>\n",
       "      <td>2015-03-05 06:58:00</td>\n",
       "      <td>34.429</td>\n",
       "      <td>data</td>\n",
       "      <td>2015-03</td>\n",
       "      <td>data</td>\n",
       "      <td>data</td>\n",
       "    </tr>\n",
       "    <tr>\n",
       "      <th>818</th>\n",
       "      <td>818</td>\n",
       "      <td>2015-03-06 06:58:00</td>\n",
       "      <td>34.429</td>\n",
       "      <td>data</td>\n",
       "      <td>2015-03</td>\n",
       "      <td>data</td>\n",
       "      <td>data</td>\n",
       "    </tr>\n",
       "    <tr>\n",
       "      <th>819</th>\n",
       "      <td>819</td>\n",
       "      <td>2015-03-07 06:58:00</td>\n",
       "      <td>34.429</td>\n",
       "      <td>data</td>\n",
       "      <td>2015-03</td>\n",
       "      <td>data</td>\n",
       "      <td>data</td>\n",
       "    </tr>\n",
       "    <tr>\n",
       "      <th>820</th>\n",
       "      <td>820</td>\n",
       "      <td>2015-03-08 06:58:00</td>\n",
       "      <td>34.429</td>\n",
       "      <td>data</td>\n",
       "      <td>2015-03</td>\n",
       "      <td>data</td>\n",
       "      <td>data</td>\n",
       "    </tr>\n",
       "    <tr>\n",
       "      <th>821</th>\n",
       "      <td>821</td>\n",
       "      <td>2015-03-09 06:58:00</td>\n",
       "      <td>34.429</td>\n",
       "      <td>data</td>\n",
       "      <td>2015-03</td>\n",
       "      <td>data</td>\n",
       "      <td>data</td>\n",
       "    </tr>\n",
       "    <tr>\n",
       "      <th>822</th>\n",
       "      <td>822</td>\n",
       "      <td>2015-03-10 06:58:00</td>\n",
       "      <td>34.429</td>\n",
       "      <td>data</td>\n",
       "      <td>2015-03</td>\n",
       "      <td>data</td>\n",
       "      <td>data</td>\n",
       "    </tr>\n",
       "    <tr>\n",
       "      <th>823</th>\n",
       "      <td>823</td>\n",
       "      <td>2015-03-11 06:58:00</td>\n",
       "      <td>34.429</td>\n",
       "      <td>data</td>\n",
       "      <td>2015-03</td>\n",
       "      <td>data</td>\n",
       "      <td>data</td>\n",
       "    </tr>\n",
       "    <tr>\n",
       "      <th>824</th>\n",
       "      <td>824</td>\n",
       "      <td>2015-03-12 06:58:00</td>\n",
       "      <td>34.429</td>\n",
       "      <td>data</td>\n",
       "      <td>2015-03</td>\n",
       "      <td>data</td>\n",
       "      <td>data</td>\n",
       "    </tr>\n",
       "    <tr>\n",
       "      <th>825</th>\n",
       "      <td>825</td>\n",
       "      <td>2015-03-13 00:38:00</td>\n",
       "      <td>1.000</td>\n",
       "      <td>sms</td>\n",
       "      <td>2015-03</td>\n",
       "      <td>world</td>\n",
       "      <td>world</td>\n",
       "    </tr>\n",
       "    <tr>\n",
       "      <th>826</th>\n",
       "      <td>826</td>\n",
       "      <td>2015-03-13 00:39:00</td>\n",
       "      <td>1.000</td>\n",
       "      <td>sms</td>\n",
       "      <td>2015-03</td>\n",
       "      <td>Vodafone</td>\n",
       "      <td>mobile</td>\n",
       "    </tr>\n",
       "    <tr>\n",
       "      <th>827</th>\n",
       "      <td>827</td>\n",
       "      <td>2015-03-13 06:58:00</td>\n",
       "      <td>34.429</td>\n",
       "      <td>data</td>\n",
       "      <td>2015-03</td>\n",
       "      <td>data</td>\n",
       "      <td>data</td>\n",
       "    </tr>\n",
       "    <tr>\n",
       "      <th>828</th>\n",
       "      <td>828</td>\n",
       "      <td>2015-03-14 00:13:00</td>\n",
       "      <td>1.000</td>\n",
       "      <td>sms</td>\n",
       "      <td>2015-03</td>\n",
       "      <td>world</td>\n",
       "      <td>world</td>\n",
       "    </tr>\n",
       "    <tr>\n",
       "      <th>829</th>\n",
       "      <td>829</td>\n",
       "      <td>2015-03-14 00:16:00</td>\n",
       "      <td>1.000</td>\n",
       "      <td>sms</td>\n",
       "      <td>2015-03</td>\n",
       "      <td>world</td>\n",
       "      <td>world</td>\n",
       "    </tr>\n",
       "  </tbody>\n",
       "</table>\n",
       "<p>830 rows × 7 columns</p>\n",
       "</div>"
      ],
      "text/plain": [
       "     index                date   duration  item    month    network  \\\n",
       "0        0 2014-10-15 06:58:00     34.429  data  2014-11       data   \n",
       "1        1 2014-10-15 06:58:00     13.000  call  2014-11   Vodafone   \n",
       "2        2 2014-10-15 14:46:00     23.000  call  2014-11     Meteor   \n",
       "3        3 2014-10-15 14:48:00      4.000  call  2014-11      Tesco   \n",
       "4        4 2014-10-15 17:27:00      4.000  call  2014-11      Tesco   \n",
       "5        5 2014-10-15 18:55:00      4.000  call  2014-11      Tesco   \n",
       "6        6 2014-10-16 06:58:00     34.429  data  2014-11       data   \n",
       "7        7 2014-10-16 15:01:00    602.000  call  2014-11      Three   \n",
       "8        8 2014-10-16 15:12:00   1050.000  call  2014-11      Three   \n",
       "9        9 2014-10-16 15:30:00     19.000  call  2014-11  voicemail   \n",
       "10      10 2014-10-16 16:21:00   1183.000  call  2014-11      Three   \n",
       "11      11 2014-10-16 22:18:00      1.000   sms  2014-11     Meteor   \n",
       "12      12 2014-10-16 22:21:00      1.000   sms  2014-11     Meteor   \n",
       "13      13 2014-10-17 06:58:00     34.429  data  2014-11       data   \n",
       "14      14 2014-10-17 10:53:00      1.000   sms  2014-11      Tesco   \n",
       "15      15 2014-10-17 11:19:00      1.000   sms  2014-11      Tesco   \n",
       "16      16 2014-10-17 11:20:00      1.000   sms  2014-11     Meteor   \n",
       "17      17 2014-10-17 17:22:00      1.000   sms  2014-11   Vodafone   \n",
       "18      18 2014-10-17 17:23:00      1.000   sms  2014-11   Vodafone   \n",
       "19      19 2014-10-17 17:26:00     92.000  call  2014-11      Three   \n",
       "20      20 2014-10-17 17:29:00      4.000  call  2014-11   Vodafone   \n",
       "21      21 2014-10-17 17:30:00    375.000  call  2014-11      Tesco   \n",
       "22      22 2014-10-17 17:42:00      1.000   sms  2014-11   Vodafone   \n",
       "23      23 2014-10-17 17:44:00      1.000   sms  2014-11   Vodafone   \n",
       "24      24 2014-10-17 17:44:00      1.000   sms  2014-11   Vodafone   \n",
       "25      25 2014-10-17 17:44:00      1.000   sms  2014-11   Vodafone   \n",
       "26      26 2014-10-18 06:58:00     34.429  data  2014-11       data   \n",
       "27      27 2014-10-18 11:51:00    783.000  call  2014-11      Tesco   \n",
       "28      28 2014-10-18 12:06:00      4.000  call  2014-11   Vodafone   \n",
       "29      29 2014-10-18 12:06:00      3.000  call  2014-11   Vodafone   \n",
       "..     ...                 ...        ...   ...      ...        ...   \n",
       "800    800 2015-03-02 14:53:00      2.000  call  2015-03  voicemail   \n",
       "801    801 2015-03-02 14:54:00     93.000  call  2015-03  voicemail   \n",
       "802    802 2015-03-02 17:35:00    192.000  call  2015-03     Meteor   \n",
       "803    803 2015-03-02 20:48:00     34.000  call  2015-03      Tesco   \n",
       "804    804 2015-03-03 06:58:00     34.429  data  2015-03       data   \n",
       "805    805 2015-03-03 09:57:00     76.000  call  2015-03   landline   \n",
       "806    806 2015-03-03 09:59:00    355.000  call  2015-03      Three   \n",
       "807    807 2015-03-03 10:12:00    745.000  call  2015-03   Vodafone   \n",
       "808    808 2015-03-03 10:27:00     57.000  call  2015-03   Vodafone   \n",
       "809    809 2015-03-03 14:34:00   1325.000  call  2015-03   Vodafone   \n",
       "810    810 2015-03-03 18:36:00    768.000  call  2015-03      Three   \n",
       "811    811 2015-03-04 06:58:00     34.429  data  2015-03       data   \n",
       "812    812 2015-03-04 07:02:00      1.000   sms  2015-03   Vodafone   \n",
       "813    813 2015-03-04 07:16:00      1.000   sms  2015-03   Vodafone   \n",
       "814    814 2015-03-04 10:30:00      1.000   sms  2015-03      Three   \n",
       "815    815 2015-03-04 10:30:00      1.000   sms  2015-03      Three   \n",
       "816    816 2015-03-04 12:29:00  10528.000  call  2015-03   landline   \n",
       "817    817 2015-03-05 06:58:00     34.429  data  2015-03       data   \n",
       "818    818 2015-03-06 06:58:00     34.429  data  2015-03       data   \n",
       "819    819 2015-03-07 06:58:00     34.429  data  2015-03       data   \n",
       "820    820 2015-03-08 06:58:00     34.429  data  2015-03       data   \n",
       "821    821 2015-03-09 06:58:00     34.429  data  2015-03       data   \n",
       "822    822 2015-03-10 06:58:00     34.429  data  2015-03       data   \n",
       "823    823 2015-03-11 06:58:00     34.429  data  2015-03       data   \n",
       "824    824 2015-03-12 06:58:00     34.429  data  2015-03       data   \n",
       "825    825 2015-03-13 00:38:00      1.000   sms  2015-03      world   \n",
       "826    826 2015-03-13 00:39:00      1.000   sms  2015-03   Vodafone   \n",
       "827    827 2015-03-13 06:58:00     34.429  data  2015-03       data   \n",
       "828    828 2015-03-14 00:13:00      1.000   sms  2015-03      world   \n",
       "829    829 2015-03-14 00:16:00      1.000   sms  2015-03      world   \n",
       "\n",
       "    network_type  \n",
       "0           data  \n",
       "1         mobile  \n",
       "2         mobile  \n",
       "3         mobile  \n",
       "4         mobile  \n",
       "5         mobile  \n",
       "6           data  \n",
       "7         mobile  \n",
       "8         mobile  \n",
       "9      voicemail  \n",
       "10        mobile  \n",
       "11        mobile  \n",
       "12        mobile  \n",
       "13          data  \n",
       "14        mobile  \n",
       "15        mobile  \n",
       "16        mobile  \n",
       "17        mobile  \n",
       "18        mobile  \n",
       "19        mobile  \n",
       "20        mobile  \n",
       "21        mobile  \n",
       "22        mobile  \n",
       "23        mobile  \n",
       "24        mobile  \n",
       "25        mobile  \n",
       "26          data  \n",
       "27        mobile  \n",
       "28        mobile  \n",
       "29        mobile  \n",
       "..           ...  \n",
       "800    voicemail  \n",
       "801    voicemail  \n",
       "802       mobile  \n",
       "803       mobile  \n",
       "804         data  \n",
       "805     landline  \n",
       "806       mobile  \n",
       "807       mobile  \n",
       "808       mobile  \n",
       "809       mobile  \n",
       "810       mobile  \n",
       "811         data  \n",
       "812       mobile  \n",
       "813       mobile  \n",
       "814       mobile  \n",
       "815       mobile  \n",
       "816     landline  \n",
       "817         data  \n",
       "818         data  \n",
       "819         data  \n",
       "820         data  \n",
       "821         data  \n",
       "822         data  \n",
       "823         data  \n",
       "824         data  \n",
       "825        world  \n",
       "826       mobile  \n",
       "827         data  \n",
       "828        world  \n",
       "829        world  \n",
       "\n",
       "[830 rows x 7 columns]"
      ]
     },
     "execution_count": 173,
     "metadata": {},
     "output_type": "execute_result"
    }
   ],
   "source": [
    "data"
   ]
  },
  {
   "cell_type": "markdown",
   "metadata": {},
   "source": [
    "### ¿Cuál fue el ítem (llamada/datos) de mayor duración?"
   ]
  },
  {
   "cell_type": "code",
   "execution_count": 174,
   "metadata": {},
   "outputs": [
    {
     "data": {
      "text/plain": [
       "10528.0"
      ]
     },
     "execution_count": 174,
     "metadata": {},
     "output_type": "execute_result"
    }
   ],
   "source": [
    "data['duration'].max()"
   ]
  },
  {
   "cell_type": "markdown",
   "metadata": {},
   "source": [
    "### ¿Cuál fue la llamada de mayor duración?\n"
   ]
  },
  {
   "cell_type": "code",
   "execution_count": 175,
   "metadata": {},
   "outputs": [
    {
     "data": {
      "text/plain": [
       "816   2015-03-04 12:29:00\n",
       "Name: date, dtype: datetime64[ns]"
      ]
     },
     "execution_count": 175,
     "metadata": {},
     "output_type": "execute_result"
    }
   ],
   "source": [
    "data['date'][data['duration']==data['duration'][data['item']=='call'].max()]\n",
    "# Funciona: data['date'][data['item']=='call'].max()\n",
    "#[data['duration'][data['item']=='call'].max()]"
   ]
  },
  {
   "cell_type": "markdown",
   "metadata": {},
   "source": [
    "### ¿Cuál fue el evento de datos de mayor duración?"
   ]
  },
  {
   "cell_type": "code",
   "execution_count": 176,
   "metadata": {},
   "outputs": [
    {
     "data": {
      "text/plain": [
       "10528.0"
      ]
     },
     "execution_count": 176,
     "metadata": {},
     "output_type": "execute_result"
    }
   ],
   "source": [
    "(data.groupby('date')['duration'].sum())\n",
    "(data.groupby('date')['duration'].sum()).max()"
   ]
  },
  {
   "cell_type": "code",
   "execution_count": null,
   "metadata": {
    "scrolled": true
   },
   "outputs": [],
   "source": []
  },
  {
   "cell_type": "markdown",
   "metadata": {},
   "source": [
    "### ¿Cuál fue el total de segundos de todas las llamadas?"
   ]
  },
  {
   "cell_type": "code",
   "execution_count": 177,
   "metadata": {},
   "outputs": [
    {
     "data": {
      "text/plain": [
       "92321.0"
      ]
     },
     "execution_count": 177,
     "metadata": {},
     "output_type": "execute_result"
    }
   ],
   "source": [
    "data['duration'][data['item'] == 'call'].sum()"
   ]
  },
  {
   "cell_type": "markdown",
   "metadata": {},
   "source": [
    "### Cual fue el total de segundos entre sms y eventos de datos?"
   ]
  },
  {
   "cell_type": "code",
   "execution_count": 178,
   "metadata": {},
   "outputs": [
    {
     "data": {
      "text/plain": [
       "5456.35"
      ]
     },
     "execution_count": 178,
     "metadata": {},
     "output_type": "execute_result"
    }
   ],
   "source": [
    "#data['duration'][[data['item']=='data'].sum()[data['duration']data['item']=='sms'].sum()]\n",
    "#  & [data['item']=='call'\n",
    "data['duration'][(data['item']=='sms') | (data ['item']=='data')].sum()"
   ]
  },
  {
   "cell_type": "markdown",
   "metadata": {},
   "source": [
    "### Cuantas entradas hay por cada uno de los meses"
   ]
  },
  {
   "cell_type": "code",
   "execution_count": 179,
   "metadata": {},
   "outputs": [
    {
     "data": {
      "text/plain": [
       "2014-11    230\n",
       "2015-01    205\n",
       "2014-12    157\n",
       "2015-02    137\n",
       "2015-03    101\n",
       "Name: month, dtype: int64"
      ]
     },
     "execution_count": 179,
     "metadata": {},
     "output_type": "execute_result"
    }
   ],
   "source": [
    "data['month'].value_counts()"
   ]
  },
  {
   "cell_type": "markdown",
   "metadata": {},
   "source": [
    "### Cuantas entradas de datos hay por cada uno de las redes?"
   ]
  },
  {
   "cell_type": "code",
   "execution_count": 180,
   "metadata": {},
   "outputs": [
    {
     "data": {
      "text/plain": [
       "data    150\n",
       "Name: network, dtype: int64"
      ]
     },
     "execution_count": 180,
     "metadata": {},
     "output_type": "execute_result"
    }
   ],
   "source": [
    "data['network'][data['item']=='data'].value_counts()"
   ]
  },
  {
   "cell_type": "markdown",
   "metadata": {},
   "source": [
    "### Cuantas entradas de llamada hay por cada uno de las redes?"
   ]
  },
  {
   "cell_type": "code",
   "execution_count": 181,
   "metadata": {},
   "outputs": [
    {
     "data": {
      "text/plain": [
       "Three        128\n",
       "Tesco         71\n",
       "Vodafone      66\n",
       "Meteor        54\n",
       "landline      42\n",
       "voicemail     27\n",
       "Name: network, dtype: int64"
      ]
     },
     "execution_count": 181,
     "metadata": {},
     "output_type": "execute_result"
    }
   ],
   "source": [
    "data['network'][data['item']=='call'].value_counts()"
   ]
  },
  {
   "cell_type": "markdown",
   "metadata": {},
   "source": [
    "### Obtener la suma de la duración por mes"
   ]
  },
  {
   "cell_type": "code",
   "execution_count": 182,
   "metadata": {},
   "outputs": [
    {
     "data": {
      "text/plain": [
       "month\n",
       "2014-11    26639.441\n",
       "2014-12    14641.870\n",
       "2015-01    18223.299\n",
       "2015-02    15522.299\n",
       "2015-03    22750.441\n",
       "Name: duration, dtype: float64"
      ]
     },
     "execution_count": 182,
     "metadata": {},
     "output_type": "execute_result"
    }
   ],
   "source": [
    "data.groupby('month')['duration'].sum()"
   ]
  },
  {
   "cell_type": "markdown",
   "metadata": {},
   "source": [
    "### Obtener el promedio de llamadas por cada una de las redes"
   ]
  },
  {
   "cell_type": "code",
   "execution_count": 189,
   "metadata": {},
   "outputs": [
    {
     "data": {
      "text/plain": [
       "network\n",
       "Meteor       133.333333\n",
       "Tesco        194.760563\n",
       "Three        284.875000\n",
       "Vodafone     221.530303\n",
       "landline     438.880952\n",
       "voicemail     65.740741\n",
       "Name: duration, dtype: float64"
      ]
     },
     "execution_count": 189,
     "metadata": {},
     "output_type": "execute_result"
    }
   ],
   "source": [
    "#data.groupby('network')[data['item'] == 'call'].mean()\n",
    "#data.groupby('index')[data['item']=='call']\n",
    "data[data['item'] == 'call'].groupby('network')['duration'].mean()"
   ]
  },
  {
   "cell_type": "markdown",
   "metadata": {},
   "source": [
    "### Obtener el promedio de eventos de datos por cada una de las redes"
   ]
  },
  {
   "cell_type": "code",
   "execution_count": 191,
   "metadata": {},
   "outputs": [
    {
     "data": {
      "text/plain": [
       "network\n",
       "data    34.429\n",
       "Name: duration, dtype: float64"
      ]
     },
     "execution_count": 191,
     "metadata": {},
     "output_type": "execute_result"
    }
   ],
   "source": [
    "data[data['item'] == 'data'].groupby('network')['duration'].mean()"
   ]
  },
  {
   "cell_type": "markdown",
   "metadata": {},
   "source": [
    "### Obtener el número de entradas por mes"
   ]
  },
  {
   "cell_type": "code",
   "execution_count": 204,
   "metadata": {},
   "outputs": [
    {
     "data": {
      "text/plain": [
       "month\n",
       "2014-11    230\n",
       "2014-12    157\n",
       "2015-01    205\n",
       "2015-02    137\n",
       "2015-03    101\n",
       "Name: date, dtype: int64"
      ]
     },
     "execution_count": 204,
     "metadata": {},
     "output_type": "execute_result"
    }
   ],
   "source": [
    "data.groupby('month')['date'].count()"
   ]
  },
  {
   "cell_type": "markdown",
   "metadata": {},
   "source": [
    "### Obtener el número de entradas tipo llamada por cada una de las redes"
   ]
  },
  {
   "cell_type": "code",
   "execution_count": 196,
   "metadata": {},
   "outputs": [
    {
     "data": {
      "text/plain": [
       "network\n",
       "Meteor        54\n",
       "Tesco         71\n",
       "Three        128\n",
       "Vodafone      66\n",
       "landline      42\n",
       "voicemail     27\n",
       "Name: date, dtype: int64"
      ]
     },
     "execution_count": 196,
     "metadata": {},
     "output_type": "execute_result"
    }
   ],
   "source": [
    "data[data['item'] == 'call'].groupby('network')['date'].count()"
   ]
  },
  {
   "cell_type": "markdown",
   "metadata": {},
   "source": [
    "### Obtener el número de entradas tipo sms por cada una de las redes"
   ]
  },
  {
   "cell_type": "code",
   "execution_count": 198,
   "metadata": {},
   "outputs": [
    {
     "data": {
      "text/plain": [
       "network\n",
       "Meteor       33\n",
       "Tesco        13\n",
       "Three        87\n",
       "Vodafone    149\n",
       "special       3\n",
       "world         7\n",
       "Name: date, dtype: int64"
      ]
     },
     "execution_count": 198,
     "metadata": {},
     "output_type": "execute_result"
    }
   ],
   "source": [
    "data[data['item'] == 'sms'].groupby('network')['date'].count()"
   ]
  },
  {
   "cell_type": "markdown",
   "metadata": {},
   "source": [
    "### Cuántos eventos de llamada, datos y sms hubo por mes"
   ]
  },
  {
   "cell_type": "code",
   "execution_count": 200,
   "metadata": {},
   "outputs": [
    {
     "data": {
      "text/plain": [
       "month    item\n",
       "2014-11  call    107\n",
       "         data     29\n",
       "         sms      94\n",
       "2014-12  call     79\n",
       "         data     30\n",
       "         sms      48\n",
       "2015-01  call     88\n",
       "         data     31\n",
       "         sms      86\n",
       "2015-02  call     67\n",
       "         data     31\n",
       "         sms      39\n",
       "2015-03  call     47\n",
       "         data     29\n",
       "         sms      25\n",
       "Name: date, dtype: int64"
      ]
     },
     "execution_count": 200,
     "metadata": {},
     "output_type": "execute_result"
    }
   ],
   "source": [
    "data.groupby(['month', 'item'])['date'].count()"
   ]
  },
  {
   "cell_type": "markdown",
   "metadata": {},
   "source": [
    "### Por cada uno de los meses cuántas veces se usaron cada una de las redes (para cualquier evento)"
   ]
  },
  {
   "cell_type": "code",
   "execution_count": 205,
   "metadata": {},
   "outputs": [
    {
     "data": {
      "text/plain": [
       "month    item  network  \n",
       "2014-11  call  Meteor       13\n",
       "               Tesco        20\n",
       "               Three        39\n",
       "               Vodafone     24\n",
       "               landline      5\n",
       "               voicemail     6\n",
       "         data  data         29\n",
       "         sms   Meteor       10\n",
       "               Tesco         3\n",
       "               Three        25\n",
       "               Vodafone     55\n",
       "               special       1\n",
       "2014-12  call  Meteor       12\n",
       "               Tesco        12\n",
       "               Three        30\n",
       "               Vodafone     10\n",
       "               landline      7\n",
       "               voicemail     8\n",
       "         data  data         30\n",
       "         sms   Meteor       12\n",
       "               Tesco         1\n",
       "               Three        13\n",
       "               Vodafone     18\n",
       "               world         4\n",
       "2015-01  call  Meteor       21\n",
       "               Tesco        12\n",
       "               Three        26\n",
       "               Vodafone     15\n",
       "               landline     11\n",
       "               voicemail     3\n",
       "         data  data         31\n",
       "         sms   Meteor       10\n",
       "               Tesco         3\n",
       "               Three        33\n",
       "               Vodafone     40\n",
       "2015-02  call  Meteor        4\n",
       "               Tesco        20\n",
       "               Three        22\n",
       "               Vodafone      7\n",
       "               landline      8\n",
       "               voicemail     6\n",
       "         data  data         31\n",
       "         sms   Meteor        1\n",
       "               Tesco         2\n",
       "               Three        11\n",
       "               Vodafone     23\n",
       "               special       2\n",
       "2015-03  call  Meteor        4\n",
       "               Tesco         7\n",
       "               Three        11\n",
       "               Vodafone     10\n",
       "               landline     11\n",
       "               voicemail     4\n",
       "         data  data         29\n",
       "         sms   Tesco         4\n",
       "               Three         5\n",
       "               Vodafone     13\n",
       "               world         3\n",
       "Name: date, dtype: int64"
      ]
     },
     "execution_count": 205,
     "metadata": {},
     "output_type": "execute_result"
    }
   ],
   "source": [
    "data.groupby(['month', 'item', 'network'])['date'].count()"
   ]
  },
  {
   "cell_type": "markdown",
   "metadata": {},
   "source": [
    "### Por cada uno de los meses cuántas veces se usaron cada una de las redes discriminando el tipo de evento"
   ]
  },
  {
   "cell_type": "code",
   "execution_count": 206,
   "metadata": {},
   "outputs": [
    {
     "data": {
      "text/plain": [
       "month    network  \n",
       "2014-11  Meteor       23\n",
       "         Tesco        23\n",
       "         Three        64\n",
       "         Vodafone     79\n",
       "         data         29\n",
       "         landline      5\n",
       "         special       1\n",
       "         voicemail     6\n",
       "2014-12  Meteor       24\n",
       "         Tesco        13\n",
       "         Three        43\n",
       "         Vodafone     28\n",
       "         data         30\n",
       "         landline      7\n",
       "         voicemail     8\n",
       "         world         4\n",
       "2015-01  Meteor       31\n",
       "         Tesco        15\n",
       "         Three        59\n",
       "         Vodafone     55\n",
       "         data         31\n",
       "         landline     11\n",
       "         voicemail     3\n",
       "2015-02  Meteor        5\n",
       "         Tesco        22\n",
       "         Three        33\n",
       "         Vodafone     30\n",
       "         data         31\n",
       "         landline      8\n",
       "         special       2\n",
       "         voicemail     6\n",
       "2015-03  Meteor        4\n",
       "         Tesco        11\n",
       "         Three        16\n",
       "         Vodafone     23\n",
       "         data         29\n",
       "         landline     11\n",
       "         voicemail     4\n",
       "         world         3\n",
       "Name: date, dtype: int64"
      ]
     },
     "execution_count": 206,
     "metadata": {},
     "output_type": "execute_result"
    }
   ],
   "source": [
    "data.groupby(['month', 'network'])['date'].count()"
   ]
  },
  {
   "cell_type": "code",
   "execution_count": null,
   "metadata": {},
   "outputs": [],
   "source": []
  },
  {
   "cell_type": "code",
   "execution_count": null,
   "metadata": {},
   "outputs": [],
   "source": []
  }
 ],
 "metadata": {
  "kernelspec": {
   "display_name": "Python 3",
   "language": "python",
   "name": "python3"
  },
  "language_info": {
   "codemirror_mode": {
    "name": "ipython",
    "version": 3
   },
   "file_extension": ".py",
   "mimetype": "text/x-python",
   "name": "python",
   "nbconvert_exporter": "python",
   "pygments_lexer": "ipython3",
   "version": "3.7.3"
  }
 },
 "nbformat": 4,
 "nbformat_minor": 2
}
