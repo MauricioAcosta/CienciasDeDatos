{
 "cells": [
  {
   "cell_type": "code",
   "execution_count": 15,
   "metadata": {},
   "outputs": [],
   "source": [
    "import pandas as pd\n",
    "import matplotlib.pyplot as plt\n",
    "import numpy as np"
   ]
  },
  {
   "cell_type": "code",
   "execution_count": 97,
   "metadata": {},
   "outputs": [
    {
     "data": {
      "text/plain": [
       "pandas.core.series.Series"
      ]
     },
     "execution_count": 97,
     "metadata": {},
     "output_type": "execute_result"
    }
   ],
   "source": [
    "dataset2=pd.read_csv('C_DIGO__NICO_DE_MEDICAMENTOS_VIGENTES.csv')\n",
    "dataset2=dataset2.truncate(before=90, after=190)\n",
    "#dataset2.info()\n",
    "#dataset2['tiporol'].unique()\n"
   ]
  },
  {
   "cell_type": "code",
   "execution_count": 96,
   "metadata": {},
   "outputs": [
    {
     "data": {
      "text/plain": [
       "pandas.core.series.Series"
      ]
     },
     "execution_count": 96,
     "metadata": {},
     "output_type": "execute_result"
    }
   ],
   "source": [
    "x1=dataset2['cantidad']\n",
    "x2=dataset2['fechavencimiento'].apply(lambda x:pd.to_datetime(x))\n",
    "#min(x1)\n",
    "type(x2)"
   ]
  },
  {
   "cell_type": "code",
   "execution_count": 38,
   "metadata": {},
   "outputs": [
    {
     "data": {
      "image/png": "[encoded data removed]",
      "text/plain": [
       "<Figure size 432x288 with 1 Axes>"
      ]
     },
     "metadata": {
      "needs_background": "light"
     },
     "output_type": "display_data"
    }
   ],
   "source": [
    "N=len(x2)\n",
    "colors = np.random.rand(N)\n",
    "area = dataset2['cantidadcum']#(15* np.random.rand(N))**2  # 0 to 15 point radii\n",
    "\n",
    "plt.scatter(x2, x1, s=area, c=colors, alpha=0.5)\n",
    "plt.title('Diagrama de dispersión de cantidad respecto al número de expediente')\n",
    "plt.show()"
   ]
  },
  {
   "cell_type": "code",
   "execution_count": null,
   "metadata": {},
   "outputs": [],
   "source": []
  },
  {
   "cell_type": "code",
   "execution_count": 87,
   "metadata": {},
   "outputs": [
    {
     "name": "stdout",
     "output_type": "stream",
     "text": [
      "<class 'pandas.core.frame.DataFrame'>\n",
      "RangeIndex: 155 entries, 0 to 154\n",
      "Data columns (total 8 columns):\n",
      "#         155 non-null int64\n",
      "TÍTULO    155 non-null object\n",
      "AUTOR     121 non-null object\n",
      "AÑO       155 non-null int64\n",
      "ISBN      152 non-null object\n",
      "SERIE     155 non-null object\n",
      "CIUDAD    154 non-null object\n",
      "EDITOR    152 non-null object\n",
      "dtypes: int64(2), object(6)\n",
      "memory usage: 9.8+ KB\n"
     ]
    },
    {
     "data": {
      "text/plain": [
       "array(['Instituto Caro y Cuervo', nan], dtype=object)"
      ]
     },
     "execution_count": 87,
     "metadata": {},
     "output_type": "execute_result"
    }
   ],
   "source": [
    "dataset1=pd.read_csv('Publicaciones_del_Instituto_Caro_y_Cuervo_actualizaci_n_2019.csv')\n",
    "#dataset1.info()\n",
    "#dataset1['EDITOR'].unique()"
   ]
  },
  {
   "cell_type": "code",
   "execution_count": 65,
   "metadata": {},
   "outputs": [
    {
     "data": {
      "text/plain": [
       "<matplotlib.axes._subplots.AxesSubplot at 0x7f0023b1f2e8>"
      ]
     },
     "execution_count": 65,
     "metadata": {},
     "output_type": "execute_result"
    },
    {
     "data": {
      "image/png": "[encoded data removed]",
      "text/plain": [
       "<Figure size 432x288 with 1 Axes>"
      ]
     },
     "metadata": {
      "needs_background": "light"
     },
     "output_type": "display_data"
    }
   ],
   "source": [
    "x3=dataset1['AÑO']\n",
    "x3.hist(bins=(max(x3)-min(x3)),  facecolor='c')"
   ]
  },
  {
   "cell_type": "code",
   "execution_count": null,
   "metadata": {},
   "outputs": [],
   "source": []
  },
  {
   "cell_type": "code",
   "execution_count": 160,
   "metadata": {},
   "outputs": [
    {
     "data": {
      "text/plain": [
       "array([2023, 2021, 2024, 2022, 2020, 2019])"
      ]
     },
     "execution_count": 160,
     "metadata": {},
     "output_type": "execute_result"
    }
   ],
   "source": [
    "x4=dataset2['fechavencimiento'].apply(lambda x:pd.to_datetime(x).year)\n",
    "dataset2['fecha']=x4\n",
    "x41=x4.unique()\n",
    "x5=dataset2['tiporol'].unique()\n",
    "x6=dataset2['tiporol']\n",
    "#columns=x5\n",
    "#columns[0]\n",
    "#columns[1]\n",
    "x41"
   ]
  },
  {
   "cell_type": "code",
   "execution_count": 169,
   "metadata": {},
   "outputs": [
    {
     "data": {
      "text/plain": [
       "12"
      ]
     },
     "execution_count": 169,
     "metadata": {},
     "output_type": "execute_result"
    }
   ],
   "source": [
    "data=[0,0]\n",
    "data[0]=dataset2[dataset2['fecha']==2010]#.count()[\"value\"]\n",
    "#data[1]=dataset2[dataset2['tiporol']==x6[1]].count()[\"value\"]\n",
    "#len(dataset2[dataset2['fecha']==2024])\n"
   ]
  },
  {
   "cell_type": "code",
   "execution_count": 193,
   "metadata": {},
   "outputs": [],
   "source": [
    "colors = plt.cm.BuPu(np.linspace(0, 0.5, len(x41)))"
   ]
  },
  {
   "cell_type": "code",
   "execution_count": 198,
   "metadata": {},
   "outputs": [
    {
     "name": "stdout",
     "output_type": "stream",
     "text": [
      "[['6.0', '8.0'], ['7.0', '27.0'], ['3.0', '7.0'], ['5.0', '7.0'], ['7.0', '12.0'], ['3.0', '9.0']]\n"
     ]
    },
    {
     "data": {
      "text/plain": [
       "([], <a list of 0 Text xticklabel objects>)"
      ]
     },
     "execution_count": 198,
     "metadata": {},
     "output_type": "execute_result"
    },
    {
     "data": {
      "image/png": "[encoded data removed]",
      "text/plain": [
       "<Figure size 432x288 with 1 Axes>"
      ]
     },
     "metadata": {
      "needs_background": "light"
     },
     "output_type": "display_data"
    }
   ],
   "source": [
    "n_rows=len(x41)\n",
    "index = np.arange(len(x5)) + 0.3\n",
    "bar_width = 0.4\n",
    "cell_text = []\n",
    "for row in range(n_rows):    \n",
    "    data=[0,0]\n",
    "    dfyear=dataset2[dataset2['fecha']==x41[row]]        \n",
    "    data[0]=len(dfyear[dfyear['tiporol']==x5[0]])\n",
    "    data[1]=len(dfyear[dfyear['tiporol']==x5[1]])    \n",
    "    plt.bar(index, data, bar_width, color=colors[row])\n",
    "    #y_offset = y_offset + data[row]\n",
    "    cell_text.append(['%1.1f' % data[0], '%1.1f' % data[1]])\n",
    "# Reverse colors and text labels to display the last value at the top.\n",
    "colors = colors[::-1]\n",
    "cell_text.reverse()\n",
    "print(cell_text)\n",
    "\n",
    "\n",
    "# Add a table at the bottom of the axes\n",
    "the_table = plt.table(cellText=cell_text,\n",
    "                      rowLabels=x41,\n",
    "                      rowColours=colors,\n",
    "                      colLabels=x5,\n",
    "                      loc='bottom')\n",
    "\n",
    "# Adjust layout to make room for the table:\n",
    "#plt.subplots_adjust(left=0.2, bottom=0.2)\n",
    "plt.xticks([])\n"
   ]
  },
  {
   "cell_type": "code",
   "execution_count": null,
   "metadata": {},
   "outputs": [],
   "source": []
  }
 ],
 "metadata": {
  "kernelspec": {
   "display_name": "Python 3",
   "language": "python",
   "name": "python3"
  },
  "language_info": {
   "codemirror_mode": {
    "name": "ipython",
    "version": 3
   },
   "file_extension": ".py",
   "mimetype": "text/x-python",
   "name": "python",
   "nbconvert_exporter": "python",
   "pygments_lexer": "ipython3",
   "version": "3.7.3"
  }
 },
 "nbformat": 4,
 "nbformat_minor": 2
}
