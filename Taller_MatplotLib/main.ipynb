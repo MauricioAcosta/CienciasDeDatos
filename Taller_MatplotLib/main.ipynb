{
 "cells": [
  {
   "cell_type": "markdown",
   "metadata": {},
   "source": [
    "## Introducción a la Ciencia de Datos (2019-1)\n",
    "### Docente: Nelson Enrique Vera\n",
    "### Estudiantes:\n",
    "#### Leidy Marcela Aldana Burgos - Código académico: 20151020019 - (LeidyMarcelaAldana@gmail.com)\n",
    "#### Andrés\n",
    "\n",
    "### Programa que toma un dataset, y gráfica Table, Hist y Scatter"
   ]
  },
  {
   "cell_type": "code",
   "execution_count": null,
   "metadata": {},
   "outputs": [],
   "source": [
    "# Importando librerias\n",
    "import pandas as pd\n",
    "import matplotlib.pyplot as plt\n",
    "import numpy as np\n",
    "\n",
    "# Dataset descargado de: \n",
    "# https://www.datos.gov.co/Cultura/Publicaciones-del-Instituto-Caro-y-Cuervo-actualiz/hms6-a2pb\n",
    "# Este dataset contiene las publicaciones del Instituto Caro y Cuervo en sus diferentes formatos\n",
    "dataset1=pd.read_csv('Publicaciones_del_Instituto_Caro_y_Cuervo_actualizaci_n_2019.csv')\n",
    "dataset1"
   ]
  },
  {
   "cell_type": "markdown",
   "metadata": {},
   "source": [
    "## Table\n",
    "\n",
    "### Documentación: \n",
    "#### https://matplotlib.org/3.1.0/gallery/misc/table_demo.html#sphx-glr-gallery-misc-table-demo-py\n",
    "#### Objetivo : Graficar la cantidad de publicaciones en la misma serie, correspondiente a diferentes años"
   ]
  },
  {
   "cell_type": "code",
   "execution_count": null,
   "metadata": {},
   "outputs": [],
   "source": [
    "import pylab\n",
    "import numpy as np\n",
    "import datetime\n",
    "from matplotlib.dates import YearLocator, MonthLocator, DateFormatter\n"
   ]
  },
  {
   "cell_type": "code",
   "execution_count": null,
   "metadata": {},
   "outputs": [],
   "source": [
    "data = [[ 66386, 174296,  75131, 577908,  32015],\n",
    "        [ 58230, 381139,  78045,  99308, 160454],\n",
    "        [ 89135,  80552, 152558, 497981, 603535],\n",
    "        [ 78415,  81858, 150656, 193263,  69638],\n",
    "        [139361, 331509, 343164, 781380,  52269]]\n",
    "\n",
    "columns = ('a','b','c','d','e')\n",
    "rows = ['%d year' % x for x in (100, 50, 20, 10, 5)]\n",
    "\n",
    "values = np.arange(0, 2500, 500)\n",
    "value_increment = 1000\n",
    "\n",
    "# Get some pastel shades for the colors\n",
    "colors = plt.cm.BuPu(np.linspace(0, 0.5, len(rows)))\n",
    "n_rows = len(data)\n",
    "\n",
    "index = np.arange(len(columns)) + 0.3\n",
    "bar_width = 0.4\n",
    "\n",
    "# Initialize the vertical-offset for the stacked bar chart.\n",
    "y_offset = np.zeros(len(columns))\n",
    "\n",
    "# Plot bars and create text labels for the table\n",
    "cell_text = []\n",
    "for row in range(n_rows):\n",
    "    plt.bar(index, data[row], bar_width, bottom=y_offset, color=colors[row])\n",
    "    y_offset = y_offset + data[row]\n",
    "    cell_text.append(['%1.1f' % (x / 1000.0) for x in y_offset])\n",
    "# Reverse colors and text labels to display the last value at the top.\n",
    "colors = colors[::-1]\n",
    "cell_text.reverse()\n",
    "\n",
    "# Add a table at the bottom of the axes\n",
    "the_table = plt.table(cellText=cell_text,\n",
    "                      rowLabels=rows,\n",
    "                      rowColours=colors,\n",
    "                      colLabels=columns,\n",
    "                      loc='bottom')\n",
    "\n",
    "# Adjust layout to make room for the table:\n",
    "plt.subplots_adjust(left=0.2, bottom=0.2)\n",
    "\n",
    "plt.ylabel(\"Loss in ${0}'s\".format(value_increment))\n",
    "plt.yticks(values * value_increment, ['%d' % val for val in values])\n",
    "plt.xticks([])\n",
    "plt.title('Loss by Disaster')\n",
    "\n",
    "plt.show()"
   ]
  },
  {
   "cell_type": "code",
   "execution_count": null,
   "metadata": {},
   "outputs": [],
   "source": []
  },
  {
   "cell_type": "markdown",
   "metadata": {},
   "source": [
    "## Hist\n",
    "### Histograma: Representación gráfica de 1 variable en forma de barras, representando su frecuencia\n",
    "### Documentación: \n",
    "#### https://matplotlib.org/3.1.0/api/_as_gen/matplotlib.pyplot.hist.html"
   ]
  },
  {
   "cell_type": "code",
   "execution_count": null,
   "metadata": {},
   "outputs": [],
   "source": [
    "# Fixing random state for reproducibility\n",
    "#np.random.seed(19680801)\n",
    "\n",
    "mu, sigma = 100, 15\n",
    "x = mu + sigma * np.random.randn(10000)\n",
    "#x\n",
    "y= dataset1['AÑO']\n",
    "#y"
   ]
  },
  {
   "cell_type": "code",
   "execution_count": null,
   "metadata": {},
   "outputs": [],
   "source": [
    "\n",
    "# the histogram of the data\n",
    "n, bins, patches = plt.hist(y, 50, density=True, facecolor='c') #, alpha=0.75\n",
    "\n",
    "plt.xlabel('Año')\n",
    "plt.ylabel('Publicaciones por año')\n",
    "plt.title('Histograma de la cantidad de publicaciones')\n",
    "plt.text(6, 1, r'Desde el año 2006 hasta el 2019')\n",
    "#plt.axis([40, 160, 0, 0.03])\n",
    "plt.axis([0, 20, 0, 1.5])\n",
    "plt.grid(True)\n",
    "plt.show()"
   ]
  },
  {
   "cell_type": "markdown",
   "metadata": {},
   "source": [
    "## Scatter\n",
    "### Un diagrama de dispersión de y vs x con diferentes tamaños de marcadores y / o colores\n",
    "### Documentación: \n",
    "#### https://matplotlib.org/3.1.0/api/_as_gen/matplotlib.pyplot.scatter.html"
   ]
  },
  {
   "cell_type": "code",
   "execution_count": null,
   "metadata": {},
   "outputs": [],
   "source": [
    "# Dataset descargado de: \n",
    "# https://www.datos.gov.co/Salud-y-Protecci-n-Social/C-DIGO-NICO-DE-MEDICAMENTOS-VIGENTES/i7cb-raxc/data\n",
    "# Este dataset contiene Información de medicamentos vigentes\n",
    "dataset2=pd.read_csv('C_DIGO__NICO_DE_MEDICAMENTOS_VIGENTES.csv')\n",
    "dataset2"
   ]
  },
  {
   "cell_type": "code",
   "execution_count": null,
   "metadata": {},
   "outputs": [],
   "source": [
    "x1=dataset2['cantidad']\n",
    "x2=dataset2['fechavencimiento'].apply(lambda x:pd.to_datetime(x2))\n",
    "#dates = [pd.to_datetime(x2) for d in x2]\n",
    "\n",
    "#N = 131264\n",
    "#x = np.random.rand(N)\n",
    "#y = np.random.rand(N)\n",
    "#type(x1.values)"
   ]
  },
  {
   "cell_type": "code",
   "execution_count": null,
   "metadata": {},
   "outputs": [],
   "source": [
    "type(x2[0])"
   ]
  },
  {
   "cell_type": "code",
   "execution_count": null,
   "metadata": {},
   "outputs": [],
   "source": [
    "colors = np.random.rand(N)\n",
    "area = (15* np.random.rand(N))**2  # 0 to 15 point radii\n",
    "\n",
    "plt.scatter(x1.values, x2.values, s=area, c=colors, alpha=0.5)\n",
    "plt.title('Diagrama de dispersión de cantidad respecto al número de expediente')\n",
    "plt.show()"
   ]
  },
  {
   "cell_type": "code",
   "execution_count": null,
   "metadata": {},
   "outputs": [],
   "source": []
  },
  {
   "cell_type": "code",
   "execution_count": null,
   "metadata": {},
   "outputs": [],
   "source": []
  },
  {
   "cell_type": "code",
   "execution_count": null,
   "metadata": {},
   "outputs": [],
   "source": []
  },
  {
   "cell_type": "code",
   "execution_count": 1,
   "metadata": {},
   "outputs": [
    {
     "data": {
      "text/plain": [
       "<Figure size 640x480 with 1 Axes>"
      ]
     },
     "metadata": {},
     "output_type": "display_data"
    }
   ],
   "source": [
    "import numpy as np\n",
    "import matplotlib.pyplot as plt\n",
    "\n",
    "\n",
    "data = [[ 66386, 174296,  75131, 577908,  32015],\n",
    "        [ 58230, 381139,  78045,  99308, 160454],\n",
    "        [ 89135,  80552, 152558, 497981, 603535],\n",
    "        [ 78415,  81858, 150656, 193263,  69638],\n",
    "        [139361, 331509, 343164, 781380,  52269]]\n",
    "\n",
    "columns = ('Freeze', 'Wind', 'Flood', 'Quake', 'Hail')\n",
    "rows = ['%d year' % x for x in (100, 50, 20, 10, 5)]\n",
    "\n",
    "values = np.arange(0, 2500, 500)\n",
    "value_increment = 1000\n",
    "\n",
    "# Get some pastel shades for the colors\n",
    "colors = plt.cm.BuPu(np.linspace(0, 0.5, len(rows)))\n",
    "n_rows = len(data)\n",
    "\n",
    "index = np.arange(len(columns)) + 0.3\n",
    "bar_width = 0.4\n",
    "\n",
    "# Initialize the vertical-offset for the stacked bar chart.\n",
    "y_offset = np.zeros(len(columns))\n",
    "\n",
    "# Plot bars and create text labels for the table\n",
    "cell_text = []\n",
    "for row in range(n_rows):\n",
    "    plt.bar(index, data[row], bar_width, bottom=y_offset, color=colors[row])\n",
    "    y_offset = y_offset + data[row]\n",
    "    cell_text.append(['%1.1f' % (x / 1000.0) for x in y_offset])\n",
    "# Reverse colors and text labels to display the last value at the top.\n",
    "colors = colors[::-1]\n",
    "cell_text.reverse()\n",
    "\n",
    "# Add a table at the bottom of the axes\n",
    "the_table = plt.table(cellText=cell_text,\n",
    "                      rowLabels=rows,\n",
    "                      rowColours=colors,\n",
    "                      colLabels=columns,\n",
    "                      loc='bottom')\n",
    "\n",
    "# Adjust layout to make room for the table:\n",
    "plt.subplots_adjust(left=0.2, bottom=0.2)\n",
    "\n",
    "plt.ylabel(\"Loss in ${0}'s\".format(value_increment))\n",
    "plt.yticks(values * value_increment, ['%d' % val for val in values])\n",
    "plt.xticks([])\n",
    "plt.title('Loss by Disaster')\n",
    "\n",
    "plt.show()"
   ]
  },
  {
   "cell_type": "code",
   "execution_count": null,
   "metadata": {},
   "outputs": [],
   "source": []
  }
 ],
 "metadata": {
  "kernelspec": {
   "display_name": "Python 3",
   "language": "python",
   "name": "python3"
  },
  "language_info": {
   "codemirror_mode": {
    "name": "ipython",
    "version": 3
   },
   "file_extension": ".py",
   "mimetype": "text/x-python",
   "name": "python",
   "nbconvert_exporter": "python",
   "pygments_lexer": "ipython3",
   "version": "3.7.3"
  }
 },
 "nbformat": 4,
 "nbformat_minor": 2
}
