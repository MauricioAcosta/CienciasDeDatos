{
 "cells": [
  {
   "cell_type": "code",
   "execution_count": null,
   "metadata": {},
   "outputs": [],
   "source": [
    "\"\"\"\n",
    "\n",
    "Estudiantes:\n",
    "Andrés Mauricio Acosta Pulido - 20142020111\n",
    "Leidy Marcela Aldana Burgos - 20151020019\n",
    "\"\"\""
   ]
  },
  {
   "cell_type": "code",
   "execution_count": 1,
   "metadata": {},
   "outputs": [],
   "source": [
    "import pandas as pd"
   ]
  },
  {
   "cell_type": "code",
   "execution_count": 3,
   "metadata": {},
   "outputs": [
    {
     "data": {
      "text/html": [
       "<div>\n",
       "<style scoped>\n",
       "    .dataframe tbody tr th:only-of-type {\n",
       "        vertical-align: middle;\n",
       "    }\n",
       "\n",
       "    .dataframe tbody tr th {\n",
       "        vertical-align: top;\n",
       "    }\n",
       "\n",
       "    .dataframe thead th {\n",
       "        text-align: right;\n",
       "    }\n",
       "</style>\n",
       "<table border=\"1\" class=\"dataframe\">\n",
       "  <thead>\n",
       "    <tr style=\"text-align: right;\">\n",
       "      <th></th>\n",
       "      <th>SueldoParcial</th>\n",
       "      <th>SueldoTotal</th>\n",
       "    </tr>\n",
       "  </thead>\n",
       "  <tbody>\n",
       "    <tr>\n",
       "      <th>0</th>\n",
       "      <td>5.000.000</td>\n",
       "      <td>4.800.000</td>\n",
       "    </tr>\n",
       "    <tr>\n",
       "      <th>1</th>\n",
       "      <td>4.200.000</td>\n",
       "      <td>4.000.000</td>\n",
       "    </tr>\n",
       "    <tr>\n",
       "      <th>2</th>\n",
       "      <td>12.000.000</td>\n",
       "      <td>11.800.000</td>\n",
       "    </tr>\n",
       "    <tr>\n",
       "      <th>3</th>\n",
       "      <td>2.250.000</td>\n",
       "      <td>2.050.000</td>\n",
       "    </tr>\n",
       "    <tr>\n",
       "      <th>4</th>\n",
       "      <td>1.500.000</td>\n",
       "      <td>1.200.000</td>\n",
       "    </tr>\n",
       "  </tbody>\n",
       "</table>\n",
       "</div>"
      ],
      "text/plain": [
       "  SueldoParcial SueldoTotal\n",
       "0     5.000.000   4.800.000\n",
       "1     4.200.000   4.000.000\n",
       "2    12.000.000  11.800.000\n",
       "3     2.250.000   2.050.000\n",
       "4     1.500.000   1.200.000"
      ]
     },
     "execution_count": 3,
     "metadata": {},
     "output_type": "execute_result"
    }
   ],
   "source": [
    "dfnomina = pd.DataFrame({'SueldoParcial': ['5.000.000', '4.200.000', '12.000.000', '2.250.000','1.500.000'],'SueldoTotal': ['4.800.000', '4.000.000', '11.800.000', '2.050.000','1.200.000']},index=[0, 1, 2, 3, 4])\n",
    "dfnomina"
   ]
  },
  {
   "cell_type": "code",
   "execution_count": 25,
   "metadata": {},
   "outputs": [
    {
     "data": {
      "text/html": [
       "<div>\n",
       "<style scoped>\n",
       "    .dataframe tbody tr th:only-of-type {\n",
       "        vertical-align: middle;\n",
       "    }\n",
       "\n",
       "    .dataframe tbody tr th {\n",
       "        vertical-align: top;\n",
       "    }\n",
       "\n",
       "    .dataframe thead th {\n",
       "        text-align: right;\n",
       "    }\n",
       "</style>\n",
       "<table border=\"1\" class=\"dataframe\">\n",
       "  <thead>\n",
       "    <tr style=\"text-align: right;\">\n",
       "      <th></th>\n",
       "      <th>primerNombre</th>\n",
       "      <th>SegundoNombre</th>\n",
       "      <th>Cedula</th>\n",
       "      <th>profesión</th>\n",
       "    </tr>\n",
       "  </thead>\n",
       "  <tbody>\n",
       "    <tr>\n",
       "      <th>0</th>\n",
       "      <td>Andres</td>\n",
       "      <td>Acosta</td>\n",
       "      <td>123</td>\n",
       "      <td>Ingeniero</td>\n",
       "    </tr>\n",
       "    <tr>\n",
       "      <th>1</th>\n",
       "      <td>Leidy</td>\n",
       "      <td>Pulido</td>\n",
       "      <td>456</td>\n",
       "      <td>Administrador</td>\n",
       "    </tr>\n",
       "    <tr>\n",
       "      <th>2</th>\n",
       "      <td>Marcela</td>\n",
       "      <td>Cuitiva</td>\n",
       "      <td>678</td>\n",
       "      <td>Enfermera</td>\n",
       "    </tr>\n",
       "    <tr>\n",
       "      <th>3</th>\n",
       "      <td>Mauricio</td>\n",
       "      <td>Aldana</td>\n",
       "      <td>901</td>\n",
       "      <td>Medica</td>\n",
       "    </tr>\n",
       "    <tr>\n",
       "      <th>4</th>\n",
       "      <td>Teresa</td>\n",
       "      <td>Moreno</td>\n",
       "      <td>142</td>\n",
       "      <td>Topografo</td>\n",
       "    </tr>\n",
       "  </tbody>\n",
       "</table>\n",
       "</div>"
      ],
      "text/plain": [
       "  primerNombre SegundoNombre Cedula      profesión\n",
       "0       Andres        Acosta    123      Ingeniero\n",
       "1        Leidy        Pulido    456  Administrador\n",
       "2      Marcela       Cuitiva    678      Enfermera\n",
       "3     Mauricio        Aldana    901         Medica\n",
       "4       Teresa        Moreno    142      Topografo"
      ]
     },
     "execution_count": 25,
     "metadata": {},
     "output_type": "execute_result"
    }
   ],
   "source": [
    "dfempleado = pd.DataFrame({'primerNombre': ['Andres', 'Leidy', 'Marcela', 'Mauricio','Teresa'],'SegundoNombre': ['Acosta', 'Pulido', 'Cuitiva', 'Aldana','Moreno'], 'Cedula': ['123','456','678','901','142'],'profesión':['Ingeniero','Administrador','Enfermera','Medica','Topografo']},index=[0, 1, 2, 3, 4])\n",
    "dfempleado"
   ]
  },
  {
   "cell_type": "code",
   "execution_count": 26,
   "metadata": {},
   "outputs": [],
   "source": [
    "SueldoEmpleado=[dfnomina,dfempleado]\n",
    "#SueldoEmpleado"
   ]
  },
  {
   "cell_type": "code",
   "execution_count": 31,
   "metadata": {},
   "outputs": [
    {
     "data": {
      "text/plain": [
       "<bound method NDFrame.filter of   SueldoParcial SueldoTotal primerNombre SegundoNombre Cedula      profesión\n",
       "0     5.000.000   4.800.000       Andres        Acosta    123      Ingeniero\n",
       "1     4.200.000   4.000.000        Leidy        Pulido    456  Administrador\n",
       "2    12.000.000  11.800.000      Marcela       Cuitiva    678      Enfermera\n",
       "3     2.250.000   2.050.000     Mauricio        Aldana    901         Medica\n",
       "4     1.500.000   1.200.000       Teresa        Moreno    142      Topografo>"
      ]
     },
     "execution_count": 31,
     "metadata": {},
     "output_type": "execute_result"
    }
   ],
   "source": [
    "dfv=pd.concat(SueldoEmpleado, axis=1, join_axes=[dfempleado.index])\n",
    "dfv.filter"
   ]
  },
  {
   "cell_type": "markdown",
   "metadata": {},
   "source": [
    "# Ejemplo 2"
   ]
  },
  {
   "cell_type": "code",
   "execution_count": 18,
   "metadata": {},
   "outputs": [
    {
     "data": {
      "text/html": [
       "<div>\n",
       "<style scoped>\n",
       "    .dataframe tbody tr th:only-of-type {\n",
       "        vertical-align: middle;\n",
       "    }\n",
       "\n",
       "    .dataframe tbody tr th {\n",
       "        vertical-align: top;\n",
       "    }\n",
       "\n",
       "    .dataframe thead th {\n",
       "        text-align: right;\n",
       "    }\n",
       "</style>\n",
       "<table border=\"1\" class=\"dataframe\">\n",
       "  <thead>\n",
       "    <tr style=\"text-align: right;\">\n",
       "      <th></th>\n",
       "      <th>Descripcion</th>\n",
       "    </tr>\n",
       "  </thead>\n",
       "  <tbody>\n",
       "    <tr>\n",
       "      <th>0</th>\n",
       "      <td>al1</td>\n",
       "    </tr>\n",
       "    <tr>\n",
       "      <th>1</th>\n",
       "      <td>al2</td>\n",
       "    </tr>\n",
       "  </tbody>\n",
       "</table>\n",
       "</div>"
      ],
      "text/plain": [
       "  Descripcion\n",
       "0         al1\n",
       "1         al2"
      ]
     },
     "execution_count": 18,
     "metadata": {},
     "output_type": "execute_result"
    }
   ],
   "source": [
    "# Cliente\n",
    "df1 = pd.DataFrame({'NombreCliente': ['cl1', 'cl2'],'idProducto': ['0', '1']},index=[0, 1])\n",
    "# Producto\n",
    "df2 = pd.DataFrame({'NombreProducto': ['p1', 'p2']},index=[0, 1])\n",
    "# Proceso\n",
    "df3 = pd.DataFrame({'idCliente': ['0', '1'],'Alerta': ['0', '1']},index=[0, 1])\n",
    "# Alerta\n",
    "df4 = pd.DataFrame({'Descripcion': ['al1', 'al2']},index=[0, 1])\n",
    "df4"
   ]
  },
  {
   "cell_type": "code",
   "execution_count": null,
   "metadata": {},
   "outputs": [],
   "source": []
  }
 ],
 "metadata": {
  "kernelspec": {
   "display_name": "Python 3",
   "language": "python",
   "name": "python3"
  },
  "language_info": {
   "codemirror_mode": {
    "name": "ipython",
    "version": 3
   },
   "file_extension": ".py",
   "mimetype": "text/x-python",
   "name": "python",
   "nbconvert_exporter": "python",
   "pygments_lexer": "ipython3",
   "version": "3.7.1"
  }
 },
 "nbformat": 4,
 "nbformat_minor": 2
}
