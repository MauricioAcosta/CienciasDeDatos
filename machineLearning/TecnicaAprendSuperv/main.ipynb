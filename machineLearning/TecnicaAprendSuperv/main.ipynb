{
 "cells": [
  {
   "cell_type": "markdown",
   "metadata": {},
   "source": [
    "# Comparación Técnicas de Machine Learning\n",
    "### Estudiantes:\n",
    "Leidy Marcela Aldana Burgos - 20151020019 \n",
    "\n",
    "Andrés Mauricio Acosta Pulido - 20142020111"
   ]
  },
  {
   "cell_type": "markdown",
   "metadata": {},
   "source": [
    "## Aprendizaje Supervisado\n",
    "### 1) KNN: Nearest Neighbors: Vecinos más cercanos\n",
    "#### Implementación "
   ]
  },
  {
   "cell_type": "code",
   "execution_count": 5,
   "metadata": {},
   "outputs": [
    {
     "name": "stdout",
     "output_type": "stream",
     "text": [
      "<class 'sklearn.utils.Bunch'>\n",
      "['DESCR', 'data', 'feature_names', 'filename', 'target', 'target_names']\n"
     ]
    },
    {
     "data": {
      "text/plain": [
       "array([0])"
      ]
     },
     "execution_count": 5,
     "metadata": {},
     "output_type": "execute_result"
    }
   ],
   "source": [
    "# -*- coding: utf-8 -*-\n",
    "\"\"\"\n",
    "Created on Wed May 16 11:35:32 2018\n",
    "\n",
    "@author: Nelson\n",
    "\"\"\"\n",
    "from sklearn import datasets\n",
    "\n",
    "# Clasificador de especies de plantas iris\n",
    "\n",
    "iris = datasets.load_iris()\n",
    "print(type(iris))\n",
    "print(dir(iris))\n",
    "iris.DESCR\n",
    "\n",
    "iris.feature_names\n",
    "iris.target_names\n",
    "\n",
    "iris.data\n",
    "iris.target\n",
    "\n",
    "\n",
    "from sklearn.model_selection import train_test_split\n",
    "\n",
    "x_train, x_test, y_train, y_test = train_test_split(iris.data, iris.target)\n",
    "x_train\n",
    "y_train\n",
    "x_test\n",
    "y_test\n",
    "\n",
    "from sklearn.neighbors import KNeighborsClassifier\n",
    "\n",
    "knn = KNeighborsClassifier(n_neighbors=5)\n",
    "knn.fit(x_train, y_train)\n",
    "knn.score(x_test, y_test)\n",
    "\n",
    "knn.predict(x_test)\n",
    "y_test\n",
    "\n",
    "knn.predict(x_test[2:3][:4])\n",
    "y_test[2:3][:4]\n",
    "\n",
    "\n",
    "from sklearn.neighbors import RadiusNeighborsClassifier\n",
    "\n",
    "knn_r = RadiusNeighborsClassifier(radius=5)\n",
    "\n",
    "knn_r.fit(x_train, y_train)\n",
    "knn_r.score(x_test, y_test)\n",
    "\n",
    "knn_r.predict(x_test)\n",
    "y_test\n",
    "\n",
    "knn_r.predict(x_test[2:3][:4])\n",
    "y_test[2:3][:4]\n"
   ]
  },
  {
   "cell_type": "markdown",
   "metadata": {},
   "source": [
    "### 2) SVM: Support Vector Machines: Máquinas de vectores de soporte\n",
    "#### Implementación"
   ]
  },
  {
   "cell_type": "code",
   "execution_count": null,
   "metadata": {},
   "outputs": [],
   "source": [
    "# -*- coding: utf-8 -*-\n",
    "\"\"\"\n",
    "Created on Wed May 16 11:14:39 2018\n",
    "\n",
    "@author: Nelson\n",
    "\"\"\"\n",
    "import matplotlib.pyplot as plt\n",
    "from sklearn.datasets import load_digits\n",
    "from sklearn.model_selection import train_test_split\n",
    "from sklearn.svm import SVC\n",
    "\n",
    "digits = load_digits()\n",
    "\n",
    "x_train, x_test, y_train, y_test = train_test_split(digits.data, digits.target)\n",
    "\n",
    "clf = SVC(gamma=0.001, C=100)\n",
    "\n",
    "clf.fit(x_train, y_train)\n",
    "\n",
    "clf.score(x_test, y_test)\n",
    "\n",
    "clf.predict(digits.data[-1:])\n",
    "\n",
    "plt.figure(1, figsize=(3, 3))\n",
    "plt.imshow(digits.images[-1], cmap=plt.cm.gray_r, interpolation='nearest')\n",
    "plt.show()"
   ]
  }
 ],
 "metadata": {
  "kernelspec": {
   "display_name": "Python 3",
   "language": "python",
   "name": "python3"
  },
  "language_info": {
   "codemirror_mode": {
    "name": "ipython",
    "version": 3
   },
   "file_extension": ".py",
   "mimetype": "text/x-python",
   "name": "python",
   "nbconvert_exporter": "python",
   "pygments_lexer": "ipython3",
   "version": "3.7.3"
  }
 },
 "nbformat": 4,
 "nbformat_minor": 2
}
