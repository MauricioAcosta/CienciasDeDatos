{
 "cells": [
  {
   "cell_type": "markdown",
   "metadata": {},
   "source": [
    "# Taller de manejo de DataFrame con Concatenación\n",
    "## Estudiantes:\n",
    "- Andrés Mauricio Acosta Pulido \n",
    "    - 20142020111\n",
    "- Leidy Marcela Aldana Burgos \n",
    "    - 20151020019\n"
   ]
  },
  {
   "cell_type": "markdown",
   "metadata": {},
   "source": [
    "# Ejemplo 1"
   ]
  },
  {
   "cell_type": "code",
   "execution_count": 45,
   "metadata": {},
   "outputs": [],
   "source": [
    "import pandas as pd"
   ]
  },
  {
   "cell_type": "code",
   "execution_count": 46,
   "metadata": {},
   "outputs": [
    {
     "data": {
      "text/html": [
       "<div>\n",
       "<style scoped>\n",
       "    .dataframe tbody tr th:only-of-type {\n",
       "        vertical-align: middle;\n",
       "    }\n",
       "\n",
       "    .dataframe tbody tr th {\n",
       "        vertical-align: top;\n",
       "    }\n",
       "\n",
       "    .dataframe thead th {\n",
       "        text-align: right;\n",
       "    }\n",
       "</style>\n",
       "<table border=\"1\" class=\"dataframe\">\n",
       "  <thead>\n",
       "    <tr style=\"text-align: right;\">\n",
       "      <th></th>\n",
       "      <th>SueldoParcial</th>\n",
       "      <th>SueldoTotal</th>\n",
       "    </tr>\n",
       "  </thead>\n",
       "  <tbody>\n",
       "    <tr>\n",
       "      <th>0</th>\n",
       "      <td>5.000.000</td>\n",
       "      <td>4.800.000</td>\n",
       "    </tr>\n",
       "    <tr>\n",
       "      <th>1</th>\n",
       "      <td>4.200.000</td>\n",
       "      <td>4.000.000</td>\n",
       "    </tr>\n",
       "    <tr>\n",
       "      <th>2</th>\n",
       "      <td>12.000.000</td>\n",
       "      <td>11.800.000</td>\n",
       "    </tr>\n",
       "    <tr>\n",
       "      <th>3</th>\n",
       "      <td>2.250.000</td>\n",
       "      <td>2.050.000</td>\n",
       "    </tr>\n",
       "    <tr>\n",
       "      <th>4</th>\n",
       "      <td>1.500.000</td>\n",
       "      <td>1.200.000</td>\n",
       "    </tr>\n",
       "  </tbody>\n",
       "</table>\n",
       "</div>"
      ],
      "text/plain": [
       "  SueldoParcial SueldoTotal\n",
       "0     5.000.000   4.800.000\n",
       "1     4.200.000   4.000.000\n",
       "2    12.000.000  11.800.000\n",
       "3     2.250.000   2.050.000\n",
       "4     1.500.000   1.200.000"
      ]
     },
     "execution_count": 46,
     "metadata": {},
     "output_type": "execute_result"
    }
   ],
   "source": [
    "dfnomina = pd.DataFrame({'SueldoParcial': ['5.000.000', '4.200.000', '12.000.000', '2.250.000','1.500.000'],'SueldoTotal': ['4.800.000', '4.000.000', '11.800.000', '2.050.000','1.200.000']},index=[0, 1, 2, 3, 4])\n",
    "dfnomina"
   ]
  },
  {
   "cell_type": "code",
   "execution_count": 47,
   "metadata": {},
   "outputs": [
    {
     "data": {
      "text/html": [
       "<div>\n",
       "<style scoped>\n",
       "    .dataframe tbody tr th:only-of-type {\n",
       "        vertical-align: middle;\n",
       "    }\n",
       "\n",
       "    .dataframe tbody tr th {\n",
       "        vertical-align: top;\n",
       "    }\n",
       "\n",
       "    .dataframe thead th {\n",
       "        text-align: right;\n",
       "    }\n",
       "</style>\n",
       "<table border=\"1\" class=\"dataframe\">\n",
       "  <thead>\n",
       "    <tr style=\"text-align: right;\">\n",
       "      <th></th>\n",
       "      <th>primerNombre</th>\n",
       "      <th>SegundoNombre</th>\n",
       "      <th>Cedula</th>\n",
       "      <th>profesión</th>\n",
       "    </tr>\n",
       "  </thead>\n",
       "  <tbody>\n",
       "    <tr>\n",
       "      <th>0</th>\n",
       "      <td>Andres</td>\n",
       "      <td>Acosta</td>\n",
       "      <td>123</td>\n",
       "      <td>Ingeniero</td>\n",
       "    </tr>\n",
       "    <tr>\n",
       "      <th>1</th>\n",
       "      <td>Leidy</td>\n",
       "      <td>Pulido</td>\n",
       "      <td>456</td>\n",
       "      <td>Administrador</td>\n",
       "    </tr>\n",
       "    <tr>\n",
       "      <th>2</th>\n",
       "      <td>Marcela</td>\n",
       "      <td>Cuitiva</td>\n",
       "      <td>678</td>\n",
       "      <td>Enfermera</td>\n",
       "    </tr>\n",
       "    <tr>\n",
       "      <th>3</th>\n",
       "      <td>Mauricio</td>\n",
       "      <td>Aldana</td>\n",
       "      <td>901</td>\n",
       "      <td>Medica</td>\n",
       "    </tr>\n",
       "    <tr>\n",
       "      <th>4</th>\n",
       "      <td>Teresa</td>\n",
       "      <td>Moreno</td>\n",
       "      <td>142</td>\n",
       "      <td>Topografo</td>\n",
       "    </tr>\n",
       "  </tbody>\n",
       "</table>\n",
       "</div>"
      ],
      "text/plain": [
       "  primerNombre SegundoNombre Cedula      profesión\n",
       "0       Andres        Acosta    123      Ingeniero\n",
       "1        Leidy        Pulido    456  Administrador\n",
       "2      Marcela       Cuitiva    678      Enfermera\n",
       "3     Mauricio        Aldana    901         Medica\n",
       "4       Teresa        Moreno    142      Topografo"
      ]
     },
     "execution_count": 47,
     "metadata": {},
     "output_type": "execute_result"
    }
   ],
   "source": [
    "dfempleado = pd.DataFrame({'primerNombre': ['Andres', 'Leidy', 'Marcela', 'Mauricio','Teresa'],'SegundoNombre': ['Acosta', 'Pulido', 'Cuitiva', 'Aldana','Moreno'], 'Cedula': ['123','456','678','901','142'],'profesión':['Ingeniero','Administrador','Enfermera','Medica','Topografo']},index=[0, 1, 2, 3, 4])\n",
    "dfempleado"
   ]
  },
  {
   "cell_type": "code",
   "execution_count": 48,
   "metadata": {},
   "outputs": [],
   "source": [
    "aux=[dfnomina,dfempleado]\n",
    "#SueldoEmpleado"
   ]
  },
  {
   "cell_type": "code",
   "execution_count": 49,
   "metadata": {},
   "outputs": [
    {
     "data": {
      "text/html": [
       "<div>\n",
       "<style scoped>\n",
       "    .dataframe tbody tr th:only-of-type {\n",
       "        vertical-align: middle;\n",
       "    }\n",
       "\n",
       "    .dataframe tbody tr th {\n",
       "        vertical-align: top;\n",
       "    }\n",
       "\n",
       "    .dataframe thead th {\n",
       "        text-align: right;\n",
       "    }\n",
       "</style>\n",
       "<table border=\"1\" class=\"dataframe\">\n",
       "  <thead>\n",
       "    <tr style=\"text-align: right;\">\n",
       "      <th></th>\n",
       "      <th>primerNombre</th>\n",
       "      <th>SegundoNombre</th>\n",
       "      <th>profesión</th>\n",
       "      <th>SueldoTotal</th>\n",
       "    </tr>\n",
       "  </thead>\n",
       "  <tbody>\n",
       "    <tr>\n",
       "      <th>0</th>\n",
       "      <td>Andres</td>\n",
       "      <td>Acosta</td>\n",
       "      <td>Ingeniero</td>\n",
       "      <td>4.800.000</td>\n",
       "    </tr>\n",
       "    <tr>\n",
       "      <th>1</th>\n",
       "      <td>Leidy</td>\n",
       "      <td>Pulido</td>\n",
       "      <td>Administrador</td>\n",
       "      <td>4.000.000</td>\n",
       "    </tr>\n",
       "  </tbody>\n",
       "</table>\n",
       "</div>"
      ],
      "text/plain": [
       "  primerNombre SegundoNombre      profesión SueldoTotal\n",
       "0       Andres        Acosta      Ingeniero   4.800.000\n",
       "1        Leidy        Pulido  Administrador   4.000.000"
      ]
     },
     "execution_count": 49,
     "metadata": {},
     "output_type": "execute_result"
    }
   ],
   "source": [
    "dfv=pd.concat(aux, axis=1, join_axes=[dfempleado.index])\n",
    "frames1=[dfv['primerNombre'],dfv['SegundoNombre'],dfv[\"profesión\"],dfv[\"SueldoTotal\"]]\n",
    "sueldoEmpleado=pd.concat(frames1, axis=1)\n",
    "sueldoEmpleado[(sueldoEmpleado['SueldoTotal'] >= '3.000.000')]\n"
   ]
  },
  {
   "cell_type": "markdown",
   "metadata": {},
   "source": [
    "# Ejemplo 2"
   ]
  },
  {
   "cell_type": "code",
   "execution_count": 50,
   "metadata": {},
   "outputs": [
    {
     "data": {
      "text/html": [
       "<div>\n",
       "<style scoped>\n",
       "    .dataframe tbody tr th:only-of-type {\n",
       "        vertical-align: middle;\n",
       "    }\n",
       "\n",
       "    .dataframe tbody tr th {\n",
       "        vertical-align: top;\n",
       "    }\n",
       "\n",
       "    .dataframe thead th {\n",
       "        text-align: right;\n",
       "    }\n",
       "</style>\n",
       "<table border=\"1\" class=\"dataframe\">\n",
       "  <thead>\n",
       "    <tr style=\"text-align: right;\">\n",
       "      <th></th>\n",
       "      <th>Mutacion</th>\n",
       "      <th>Descripción</th>\n",
       "    </tr>\n",
       "  </thead>\n",
       "  <tbody>\n",
       "    <tr>\n",
       "      <th>0</th>\n",
       "      <td>m1</td>\n",
       "      <td>dm1</td>\n",
       "    </tr>\n",
       "    <tr>\n",
       "      <th>1</th>\n",
       "      <td>m2</td>\n",
       "      <td>dm2</td>\n",
       "    </tr>\n",
       "    <tr>\n",
       "      <th>2</th>\n",
       "      <td>m3</td>\n",
       "      <td>dm3</td>\n",
       "    </tr>\n",
       "    <tr>\n",
       "      <th>3</th>\n",
       "      <td>m4</td>\n",
       "      <td></td>\n",
       "    </tr>\n",
       "  </tbody>\n",
       "</table>\n",
       "</div>"
      ],
      "text/plain": [
       "  Mutacion Descripción\n",
       "0       m1         dm1\n",
       "1       m2         dm2\n",
       "2       m3         dm3\n",
       "3       m4            "
      ]
     },
     "execution_count": 50,
     "metadata": {},
     "output_type": "execute_result"
    }
   ],
   "source": [
    "dfalgoritmo = pd.DataFrame({'Algoritmo Genetico': ['al1', 'al2', 'al3', 'al4'],'Area_Aplicacion': ['Psiquiatria', 'Criptografia', 'Sociología', ' ']},index=[0, 1, 2, 3])\n",
    "dfmutacion = pd.DataFrame({'Mutacion': ['m1', 'm2', 'm3', 'm4'], 'Descripción':['dm1', 'dm2', 'dm3', ' ']},index=[0, 1, 2, 3])\n",
    "\n",
    "dfmutacion"
   ]
  },
  {
   "cell_type": "code",
   "execution_count": 51,
   "metadata": {},
   "outputs": [
    {
     "data": {
      "text/html": [
       "<div>\n",
       "<style scoped>\n",
       "    .dataframe tbody tr th:only-of-type {\n",
       "        vertical-align: middle;\n",
       "    }\n",
       "\n",
       "    .dataframe tbody tr th {\n",
       "        vertical-align: top;\n",
       "    }\n",
       "\n",
       "    .dataframe thead th {\n",
       "        text-align: right;\n",
       "    }\n",
       "</style>\n",
       "<table border=\"1\" class=\"dataframe\">\n",
       "  <thead>\n",
       "    <tr style=\"text-align: right;\">\n",
       "      <th></th>\n",
       "      <th>Area_Aplicacion</th>\n",
       "      <th>Mutacion</th>\n",
       "    </tr>\n",
       "  </thead>\n",
       "  <tbody>\n",
       "    <tr>\n",
       "      <th>0</th>\n",
       "      <td>Psiquiatria</td>\n",
       "      <td>m1</td>\n",
       "    </tr>\n",
       "    <tr>\n",
       "      <th>1</th>\n",
       "      <td>Criptografia</td>\n",
       "      <td>m2</td>\n",
       "    </tr>\n",
       "    <tr>\n",
       "      <th>2</th>\n",
       "      <td>Sociología</td>\n",
       "      <td>m3</td>\n",
       "    </tr>\n",
       "    <tr>\n",
       "      <th>3</th>\n",
       "      <td>NaN</td>\n",
       "      <td>NaN</td>\n",
       "    </tr>\n",
       "  </tbody>\n",
       "</table>\n",
       "</div>"
      ],
      "text/plain": [
       "  Area_Aplicacion Mutacion\n",
       "0     Psiquiatria       m1\n",
       "1    Criptografia       m2\n",
       "2      Sociología       m3\n",
       "3             NaN      NaN"
      ]
     },
     "execution_count": 51,
     "metadata": {},
     "output_type": "execute_result"
    }
   ],
   "source": [
    "frames = [dfalgoritmo, dfmutacion]\n",
    "dfTotal = pd.concat(frames, axis=1)\n",
    "dfTotal\n",
    "framesAux=[dfTotal['Area_Aplicacion'],dfTotal['Mutacion']]\n",
    "frame=pd.concat(framesAux, axis=1)\n",
    "frame.where(frame['Area_Aplicacion'] != ' ')\n"
   ]
  },
  {
   "cell_type": "markdown",
   "metadata": {},
   "source": [
    "# Ejemplo 3"
   ]
  },
  {
   "cell_type": "code",
   "execution_count": 58,
   "metadata": {},
   "outputs": [
    {
     "data": {
      "text/html": [
       "<div>\n",
       "<style scoped>\n",
       "    .dataframe tbody tr th:only-of-type {\n",
       "        vertical-align: middle;\n",
       "    }\n",
       "\n",
       "    .dataframe tbody tr th {\n",
       "        vertical-align: top;\n",
       "    }\n",
       "\n",
       "    .dataframe thead th {\n",
       "        text-align: right;\n",
       "    }\n",
       "</style>\n",
       "<table border=\"1\" class=\"dataframe\">\n",
       "  <thead>\n",
       "    <tr style=\"text-align: right;\">\n",
       "      <th></th>\n",
       "      <th>interes</th>\n",
       "      <th>SueldoParcial</th>\n",
       "      <th>SueldoTotal</th>\n",
       "    </tr>\n",
       "  </thead>\n",
       "  <tbody>\n",
       "    <tr>\n",
       "      <th>0</th>\n",
       "      <td>4.000000</td>\n",
       "      <td>5000000</td>\n",
       "      <td>4800000</td>\n",
       "    </tr>\n",
       "    <tr>\n",
       "      <th>1</th>\n",
       "      <td>4.761905</td>\n",
       "      <td>4200000</td>\n",
       "      <td>4000000</td>\n",
       "    </tr>\n",
       "    <tr>\n",
       "      <th>2</th>\n",
       "      <td>1.666667</td>\n",
       "      <td>12000000</td>\n",
       "      <td>11800000</td>\n",
       "    </tr>\n",
       "    <tr>\n",
       "      <th>3</th>\n",
       "      <td>8.888889</td>\n",
       "      <td>2250000</td>\n",
       "      <td>2050000</td>\n",
       "    </tr>\n",
       "    <tr>\n",
       "      <th>4</th>\n",
       "      <td>20.000000</td>\n",
       "      <td>1500000</td>\n",
       "      <td>1200000</td>\n",
       "    </tr>\n",
       "  </tbody>\n",
       "</table>\n",
       "</div>"
      ],
      "text/plain": [
       "     interes  SueldoParcial  SueldoTotal\n",
       "0   4.000000        5000000      4800000\n",
       "1   4.761905        4200000      4000000\n",
       "2   1.666667       12000000     11800000\n",
       "3   8.888889        2250000      2050000\n",
       "4  20.000000        1500000      1200000"
      ]
     },
     "execution_count": 58,
     "metadata": {},
     "output_type": "execute_result"
    }
   ],
   "source": [
    "dfnomina = pd.DataFrame({'SueldoParcial': [5000000, 4200000, 12000000, 2250000,1500000],'SueldoTotal': [4800000, 4000000, 11800000, 2050000,1200000]},index=[0, 1, 2, 3, 4])\n",
    "# Se calcula el valor del interes entre el mismo dataframe, para poder concatenarlo, el valor es un porcentaje\n",
    "valorInteres=pd.DataFrame({'interes':dfnomina.eval('100-(SueldoTotal*100/SueldoParcial)')})\n",
    "dfinteres=pd.concat([valorInteres,dfnomina], axis=1)\n",
    "dfinteres"
   ]
  },
  {
   "cell_type": "code",
   "execution_count": null,
   "metadata": {},
   "outputs": [],
   "source": []
  }
 ],
 "metadata": {
  "kernelspec": {
   "display_name": "Python 3",
   "language": "python",
   "name": "python3"
  },
  "language_info": {
   "codemirror_mode": {
    "name": "ipython",
    "version": 3
   },
   "file_extension": ".py",
   "mimetype": "text/x-python",
   "name": "python",
   "nbconvert_exporter": "python",
   "pygments_lexer": "ipython3",
   "version": "3.7.3"
  }
 },
 "nbformat": 4,
 "nbformat_minor": 2
}
